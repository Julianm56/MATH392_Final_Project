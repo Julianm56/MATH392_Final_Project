{
 "cells": [
  {
   "cell_type": "markdown",
   "id": "73e67ec2",
   "metadata": {},
   "source": [
    "# Fine Tuning ( Resnet head no aug / mobilenet mid aug)\n",
    "\n",
    "In this notebook we demonstrates how to run the entire experimental pipeline (Hyperparameter Optimization, Final Training, and Evaluation) for a model variation that will be selected in a later cell. We achive this by calling the core functions defined in `hpo.py`, `final_training.py`, and `evaluation.py`."
   ]
  },
  {
   "cell_type": "markdown",
   "id": "01861b06",
   "metadata": {},
   "source": [
    "### Selecting a model\n",
    "Due to time contraints we have the models in list that will be ran as batches. This will be changed later. For now please only select one of the following cells."
   ]
  },
  {
   "cell_type": "code",
   "execution_count": 1,
   "id": "a35b1685",
   "metadata": {},
   "outputs": [],
   "source": [
    "SETUP_IDS_TO_RUN = ['resnet_head_noaug', 'mobilenet_mid_aug']\n"
   ]
  },
  {
   "cell_type": "code",
   "execution_count": 4,
   "id": "9597ee3b",
   "metadata": {},
   "outputs": [
    {
     "name": "stdout",
     "output_type": "stream",
     "text": [
      "### Will run pipeline for Setups ID: ['resnet_head_noaug', 'mobilenet_mid_aug'] ###\n",
      "Using device: cuda\n",
      "Output directories ensured.\n"
     ]
    }
   ],
   "source": [
    "import torch\n",
    "import os\n",
    "import time # For potential timing if desired, though scripts handle internal timing\n",
    "import sys\n",
    "sys.path.append('../scripts') \n",
    "\n",
    "# Import shared utilities and configurations \n",
    "import utils\n",
    "import config # Contains HPO_CONFIG_LIST, UNFREEZE_MAPS, output dirs, defaults\n",
    "\n",
    "# Import the core processing functions from our scripts\n",
    "from hpo import perform_hpo_for_setup\n",
    "from final_train import perform_final_training_for_setup\n",
    "from evaluate import perform_evaluation_for_setup\n",
    "\n",
    "# --- Define the Single Setup to Run ---\n",
    "print(f\"### Will run pipeline for Setups ID: {SETUP_IDS_TO_RUN} ###\")\n",
    "\n",
    "# --- Global Parameters for this Run (can override config defaults if needed) ---\n",
    "# These would typically come from argparse in the scripts, here we set them directly\n",
    "# Or, we can rely on defaults set within config.py and the script functions\n",
    "HPO_EPOCHS = config.DEFAULT_HPO_EPOCHS\n",
    "FINAL_TRAIN_EPOCHS = config.DEFAULT_FINAL_TRAIN_EPOCHS\n",
    "PATIENCE = config.DEFAULT_PATIENCE\n",
    "BATCH_SIZE = config.DEFAULT_BATCH_SIZE # Using one batch size for simplicity here, scripts might allow separate\n",
    "\n",
    "# --- Device Setup ---\n",
    "if torch.backends.mps.is_available() and torch.backends.mps.is_built():\n",
    "    device = torch.device(\"mps\")\n",
    "elif torch.cuda.is_available():\n",
    "    device = torch.device(\"cuda\")\n",
    "else:\n",
    "    device = torch.device(\"cpu\")\n",
    "print(f\"Using device: {device}\")\n",
    "\n",
    "# --- Ensure Output Directories Exist ---\n",
    "config.create_output_dirs()"
   ]
  },
  {
   "cell_type": "markdown",
   "id": "75336872",
   "metadata": {},
   "source": [
    "## Stage 1: Hyperparameter Optimization"
   ]
  },
  {
   "cell_type": "code",
   "execution_count": 9,
   "id": "c8932051",
   "metadata": {},
   "outputs": [
    {
     "name": "stdout",
     "output_type": "stream",
     "text": [
      "\n",
      "===== STAGE 1: Hyperparameter Optimization =====\n",
      "\n",
      "Running HPO for setup: resnet_head_noaug\n",
      "--- Starting HPO for Setup ID: resnet_head_noaug ---\n",
      "  Trial 1/12 with params: {'lr_backbone': 0.0001, 'lr_head': 0.005, 'weight_decay': 0.01}\n",
      "Downloading https://thor.robots.ox.ac.uk/pets/images.tar.gz to data/oxford-iiit-pet/images.tar.gz\n"
     ]
    },
    {
     "name": "stderr",
     "output_type": "stream",
     "text": [
      "100%|██████████| 792M/792M [02:01<00:00, 6.54MB/s]  \n"
     ]
    },
    {
     "name": "stdout",
     "output_type": "stream",
     "text": [
      "Extracting data/oxford-iiit-pet/images.tar.gz to data/oxford-iiit-pet\n",
      "Downloading https://thor.robots.ox.ac.uk/pets/annotations.tar.gz to data/oxford-iiit-pet/annotations.tar.gz\n"
     ]
    },
    {
     "name": "stderr",
     "output_type": "stream",
     "text": [
      "100%|██████████| 19.2M/19.2M [00:04<00:00, 4.59MB/s]\n"
     ]
    },
    {
     "name": "stdout",
     "output_type": "stream",
     "text": [
      "Extracting data/oxford-iiit-pet/annotations.tar.gz to data/oxford-iiit-pet\n",
      "    Adjusting lr_backbone to 0 for 'head' unfreeze strategy.\n"
     ]
    },
    {
     "name": "stderr",
     "output_type": "stream",
     "text": [
      "                                                                                                    \r"
     ]
    },
    {
     "name": "stdout",
     "output_type": "stream",
     "text": [
      "    Epoch 1/15 - Train Loss: 1.3989, Acc: 62.81% | Val Loss: 0.5558, Acc: 83.15%\n"
     ]
    },
    {
     "name": "stderr",
     "output_type": "stream",
     "text": [
      "                                                                                                    \r"
     ]
    },
    {
     "name": "stdout",
     "output_type": "stream",
     "text": [
      "    Epoch 2/15 - Train Loss: 0.3696, Acc: 90.22% | Val Loss: 0.4881, Acc: 85.33%\n"
     ]
    },
    {
     "name": "stderr",
     "output_type": "stream",
     "text": [
      "                                                                                                    \r"
     ]
    },
    {
     "name": "stdout",
     "output_type": "stream",
     "text": [
      "    Epoch 3/15 - Train Loss: 0.2739, Acc: 92.60% | Val Loss: 0.4137, Acc: 86.82%\n"
     ]
    },
    {
     "name": "stderr",
     "output_type": "stream",
     "text": [
      "                                                                                                    \r"
     ]
    },
    {
     "name": "stdout",
     "output_type": "stream",
     "text": [
      "    Epoch 4/15 - Train Loss: 0.1997, Acc: 94.67% | Val Loss: 0.4179, Acc: 87.23%\n"
     ]
    },
    {
     "name": "stderr",
     "output_type": "stream",
     "text": [
      "                                                                                                    \r"
     ]
    },
    {
     "name": "stdout",
     "output_type": "stream",
     "text": [
      "    Epoch 5/15 - Train Loss: 0.1600, Acc: 96.43% | Val Loss: 0.4370, Acc: 85.33%\n"
     ]
    },
    {
     "name": "stderr",
     "output_type": "stream",
     "text": [
      "                                                                                                    \r"
     ]
    },
    {
     "name": "stdout",
     "output_type": "stream",
     "text": [
      "    Epoch 6/15 - Train Loss: 0.1359, Acc: 96.71% | Val Loss: 0.4011, Acc: 86.68%\n"
     ]
    },
    {
     "name": "stderr",
     "output_type": "stream",
     "text": [
      "                                                                                                    \r"
     ]
    },
    {
     "name": "stdout",
     "output_type": "stream",
     "text": [
      "    Epoch 7/15 - Train Loss: 0.1088, Acc: 97.59% | Val Loss: 0.3704, Acc: 88.04%\n"
     ]
    },
    {
     "name": "stderr",
     "output_type": "stream",
     "text": [
      "                                                                                                    \r"
     ]
    },
    {
     "name": "stdout",
     "output_type": "stream",
     "text": [
      "    Epoch 8/15 - Train Loss: 0.0896, Acc: 98.20% | Val Loss: 0.4147, Acc: 85.73%\n"
     ]
    },
    {
     "name": "stderr",
     "output_type": "stream",
     "text": [
      "                                                                                                    \r"
     ]
    },
    {
     "name": "stdout",
     "output_type": "stream",
     "text": [
      "    Epoch 9/15 - Train Loss: 0.0828, Acc: 98.37% | Val Loss: 0.4041, Acc: 87.77%\n"
     ]
    },
    {
     "name": "stderr",
     "output_type": "stream",
     "text": [
      "                                                                                                    \r"
     ]
    },
    {
     "name": "stdout",
     "output_type": "stream",
     "text": [
      "    Epoch 10/15 - Train Loss: 0.0584, Acc: 99.25% | Val Loss: 0.4602, Acc: 86.01%\n"
     ]
    },
    {
     "name": "stderr",
     "output_type": "stream",
     "text": [
      "                                                                                                    \r"
     ]
    },
    {
     "name": "stdout",
     "output_type": "stream",
     "text": [
      "    Epoch 11/15 - Train Loss: 0.0541, Acc: 99.29% | Val Loss: 0.3790, Acc: 87.36%\n"
     ]
    },
    {
     "name": "stderr",
     "output_type": "stream",
     "text": [
      "                                                                                                    \r"
     ]
    },
    {
     "name": "stdout",
     "output_type": "stream",
     "text": [
      "    Epoch 12/15 - Train Loss: 0.0463, Acc: 99.56% | Val Loss: 0.3804, Acc: 88.86%\n"
     ]
    },
    {
     "name": "stderr",
     "output_type": "stream",
     "text": [
      "                                                                                                    \r"
     ]
    },
    {
     "name": "stdout",
     "output_type": "stream",
     "text": [
      "    Epoch 13/15 - Train Loss: 0.0399, Acc: 99.63% | Val Loss: 0.3929, Acc: 88.45%\n"
     ]
    },
    {
     "name": "stderr",
     "output_type": "stream",
     "text": [
      "                                                                                                    \r"
     ]
    },
    {
     "name": "stdout",
     "output_type": "stream",
     "text": [
      "    Epoch 14/15 - Train Loss: 0.0355, Acc: 99.80% | Val Loss: 0.4003, Acc: 86.82%\n"
     ]
    },
    {
     "name": "stderr",
     "output_type": "stream",
     "text": [
      "                                                                                                    \r"
     ]
    },
    {
     "name": "stdout",
     "output_type": "stream",
     "text": [
      "    Epoch 15/15 - Train Loss: 0.0381, Acc: 99.69% | Val Loss: 0.4186, Acc: 87.91%\n",
      "    New best HPO params for resnet_head_noaug: {'lr_backbone': 0.0001, 'lr_head': 0.005, 'weight_decay': 0.01} with Val Acc: 87.91%\n",
      "  Trial 2/12 with params: {'lr_backbone': 0.0001, 'lr_head': 0.005, 'weight_decay': 0.001}\n",
      "    Adjusting lr_backbone to 0 for 'head' unfreeze strategy.\n"
     ]
    },
    {
     "name": "stderr",
     "output_type": "stream",
     "text": [
      "                                                                                                    \r"
     ]
    },
    {
     "name": "stdout",
     "output_type": "stream",
     "text": [
      "    Epoch 1/15 - Train Loss: 1.4237, Acc: 61.21% | Val Loss: 0.6224, Acc: 80.43%\n"
     ]
    },
    {
     "name": "stderr",
     "output_type": "stream",
     "text": [
      "                                                                                                    \r"
     ]
    },
    {
     "name": "stdout",
     "output_type": "stream",
     "text": [
      "    Epoch 2/15 - Train Loss: 0.3939, Acc: 89.10% | Val Loss: 0.5007, Acc: 83.56%\n"
     ]
    },
    {
     "name": "stderr",
     "output_type": "stream",
     "text": [
      "                                                                                                    \r"
     ]
    },
    {
     "name": "stdout",
     "output_type": "stream",
     "text": [
      "    Epoch 3/15 - Train Loss: 0.2786, Acc: 92.29% | Val Loss: 0.3979, Acc: 86.55%\n"
     ]
    },
    {
     "name": "stderr",
     "output_type": "stream",
     "text": [
      "                                                                                                    \r"
     ]
    },
    {
     "name": "stdout",
     "output_type": "stream",
     "text": [
      "    Epoch 4/15 - Train Loss: 0.2148, Acc: 93.68% | Val Loss: 0.4285, Acc: 85.73%\n"
     ]
    },
    {
     "name": "stderr",
     "output_type": "stream",
     "text": [
      "                                                                                                    \r"
     ]
    },
    {
     "name": "stdout",
     "output_type": "stream",
     "text": [
      "    Epoch 5/15 - Train Loss: 0.1492, Acc: 95.96% | Val Loss: 0.3803, Acc: 87.91%\n"
     ]
    },
    {
     "name": "stderr",
     "output_type": "stream",
     "text": [
      "                                                                                                    \r"
     ]
    },
    {
     "name": "stdout",
     "output_type": "stream",
     "text": [
      "    Epoch 6/15 - Train Loss: 0.1155, Acc: 97.83% | Val Loss: 0.3792, Acc: 88.59%\n"
     ]
    },
    {
     "name": "stderr",
     "output_type": "stream",
     "text": [
      "                                                                                                    \r"
     ]
    },
    {
     "name": "stdout",
     "output_type": "stream",
     "text": [
      "    Epoch 7/15 - Train Loss: 0.1008, Acc: 97.96% | Val Loss: 0.3656, Acc: 88.45%\n"
     ]
    },
    {
     "name": "stderr",
     "output_type": "stream",
     "text": [
      "                                                                                                    \r"
     ]
    },
    {
     "name": "stdout",
     "output_type": "stream",
     "text": [
      "    Epoch 8/15 - Train Loss: 0.0980, Acc: 97.86% | Val Loss: 0.3712, Acc: 87.50%\n"
     ]
    },
    {
     "name": "stderr",
     "output_type": "stream",
     "text": [
      "                                                                                                    \r"
     ]
    },
    {
     "name": "stdout",
     "output_type": "stream",
     "text": [
      "    Epoch 9/15 - Train Loss: 0.0707, Acc: 98.95% | Val Loss: 0.3723, Acc: 87.91%\n"
     ]
    },
    {
     "name": "stderr",
     "output_type": "stream",
     "text": [
      "                                                                                                    \r"
     ]
    },
    {
     "name": "stdout",
     "output_type": "stream",
     "text": [
      "    Epoch 10/15 - Train Loss: 0.0620, Acc: 99.18% | Val Loss: 0.3821, Acc: 89.13%\n"
     ]
    },
    {
     "name": "stderr",
     "output_type": "stream",
     "text": [
      "                                                                                                    \r"
     ]
    },
    {
     "name": "stdout",
     "output_type": "stream",
     "text": [
      "    Epoch 11/15 - Train Loss: 0.0575, Acc: 99.29% | Val Loss: 0.4421, Acc: 85.87%\n"
     ]
    },
    {
     "name": "stderr",
     "output_type": "stream",
     "text": [
      "                                                                                                    \r"
     ]
    },
    {
     "name": "stdout",
     "output_type": "stream",
     "text": [
      "    Epoch 12/15 - Train Loss: 0.0503, Acc: 99.42% | Val Loss: 0.3618, Acc: 88.72%\n"
     ]
    },
    {
     "name": "stderr",
     "output_type": "stream",
     "text": [
      "                                                                                                    \r"
     ]
    },
    {
     "name": "stdout",
     "output_type": "stream",
     "text": [
      "    Epoch 13/15 - Train Loss: 0.0406, Acc: 99.52% | Val Loss: 0.4042, Acc: 88.04%\n"
     ]
    },
    {
     "name": "stderr",
     "output_type": "stream",
     "text": [
      "                                                                                                    \r"
     ]
    },
    {
     "name": "stdout",
     "output_type": "stream",
     "text": [
      "    Epoch 14/15 - Train Loss: 0.0374, Acc: 99.76% | Val Loss: 0.3806, Acc: 87.50%\n"
     ]
    },
    {
     "name": "stderr",
     "output_type": "stream",
     "text": [
      "                                                                                                    \r"
     ]
    },
    {
     "name": "stdout",
     "output_type": "stream",
     "text": [
      "    Epoch 15/15 - Train Loss: 0.0361, Acc: 99.80% | Val Loss: 0.4102, Acc: 86.55%\n",
      "  Trial 3/12 with params: {'lr_backbone': 0.0001, 'lr_head': 0.005, 'weight_decay': 0}\n",
      "    Adjusting lr_backbone to 0 for 'head' unfreeze strategy.\n"
     ]
    },
    {
     "name": "stderr",
     "output_type": "stream",
     "text": [
      "                                                                                                    \r"
     ]
    },
    {
     "name": "stdout",
     "output_type": "stream",
     "text": [
      "    Epoch 1/15 - Train Loss: 1.3365, Acc: 66.34% | Val Loss: 0.5987, Acc: 82.07%\n"
     ]
    },
    {
     "name": "stderr",
     "output_type": "stream",
     "text": [
      "                                                                                                    \r"
     ]
    },
    {
     "name": "stdout",
     "output_type": "stream",
     "text": [
      "    Epoch 2/15 - Train Loss: 0.3851, Acc: 88.72% | Val Loss: 0.4683, Acc: 84.65%\n"
     ]
    },
    {
     "name": "stderr",
     "output_type": "stream",
     "text": [
      "                                                                                                    \r"
     ]
    },
    {
     "name": "stdout",
     "output_type": "stream",
     "text": [
      "    Epoch 3/15 - Train Loss: 0.2519, Acc: 93.75% | Val Loss: 0.4410, Acc: 85.60%\n"
     ]
    },
    {
     "name": "stderr",
     "output_type": "stream",
     "text": [
      "                                                                                                    \r"
     ]
    },
    {
     "name": "stdout",
     "output_type": "stream",
     "text": [
      "    Epoch 4/15 - Train Loss: 0.1930, Acc: 95.28% | Val Loss: 0.4081, Acc: 86.96%\n"
     ]
    },
    {
     "name": "stderr",
     "output_type": "stream",
     "text": [
      "                                                                                                    \r"
     ]
    },
    {
     "name": "stdout",
     "output_type": "stream",
     "text": [
      "    Epoch 5/15 - Train Loss: 0.1502, Acc: 96.33% | Val Loss: 0.3556, Acc: 88.04%\n"
     ]
    },
    {
     "name": "stderr",
     "output_type": "stream",
     "text": [
      "                                                                                                    \r"
     ]
    },
    {
     "name": "stdout",
     "output_type": "stream",
     "text": [
      "    Epoch 6/15 - Train Loss: 0.1259, Acc: 97.18% | Val Loss: 0.4004, Acc: 86.01%\n"
     ]
    },
    {
     "name": "stderr",
     "output_type": "stream",
     "text": [
      "                                                                                                    \r"
     ]
    },
    {
     "name": "stdout",
     "output_type": "stream",
     "text": [
      "    Epoch 7/15 - Train Loss: 0.1023, Acc: 98.06% | Val Loss: 0.3954, Acc: 85.87%\n"
     ]
    },
    {
     "name": "stderr",
     "output_type": "stream",
     "text": [
      "                                                                                                    \r"
     ]
    },
    {
     "name": "stdout",
     "output_type": "stream",
     "text": [
      "    Epoch 8/15 - Train Loss: 0.0877, Acc: 98.34% | Val Loss: 0.4070, Acc: 86.01%\n"
     ]
    },
    {
     "name": "stderr",
     "output_type": "stream",
     "text": [
      "                                                                                                    \r"
     ]
    },
    {
     "name": "stdout",
     "output_type": "stream",
     "text": [
      "    Epoch 9/15 - Train Loss: 0.0758, Acc: 98.78% | Val Loss: 0.3881, Acc: 87.64%\n"
     ]
    },
    {
     "name": "stderr",
     "output_type": "stream",
     "text": [
      "                                                                                                    \r"
     ]
    },
    {
     "name": "stdout",
     "output_type": "stream",
     "text": [
      "    Epoch 10/15 - Train Loss: 0.0619, Acc: 98.98% | Val Loss: 0.4091, Acc: 85.73%\n"
     ]
    },
    {
     "name": "stderr",
     "output_type": "stream",
     "text": [
      "                                                                                                    \r"
     ]
    },
    {
     "name": "stdout",
     "output_type": "stream",
     "text": [
      "    Epoch 11/15 - Train Loss: 0.0433, Acc: 99.66% | Val Loss: 0.3754, Acc: 88.18%\n"
     ]
    },
    {
     "name": "stderr",
     "output_type": "stream",
     "text": [
      "                                                                                                    \r"
     ]
    },
    {
     "name": "stdout",
     "output_type": "stream",
     "text": [
      "    Epoch 12/15 - Train Loss: 0.0398, Acc: 99.80% | Val Loss: 0.3971, Acc: 86.96%\n"
     ]
    },
    {
     "name": "stderr",
     "output_type": "stream",
     "text": [
      "                                                                                                    \r"
     ]
    },
    {
     "name": "stdout",
     "output_type": "stream",
     "text": [
      "    Epoch 13/15 - Train Loss: 0.0392, Acc: 99.63% | Val Loss: 0.4104, Acc: 86.55%\n"
     ]
    },
    {
     "name": "stderr",
     "output_type": "stream",
     "text": [
      "                                                                                                    \r"
     ]
    },
    {
     "name": "stdout",
     "output_type": "stream",
     "text": [
      "    Epoch 14/15 - Train Loss: 0.0444, Acc: 99.32% | Val Loss: 0.3979, Acc: 86.68%\n"
     ]
    },
    {
     "name": "stderr",
     "output_type": "stream",
     "text": [
      "                                                                                                    \r"
     ]
    },
    {
     "name": "stdout",
     "output_type": "stream",
     "text": [
      "    Epoch 15/15 - Train Loss: 0.0408, Acc: 99.42% | Val Loss: 0.4030, Acc: 86.96%\n",
      "  Trial 4/12 with params: {'lr_backbone': 0.0001, 'lr_head': 0.001, 'weight_decay': 0.01}\n",
      "    Adjusting lr_backbone to 0 for 'head' unfreeze strategy.\n"
     ]
    },
    {
     "name": "stderr",
     "output_type": "stream",
     "text": [
      "                                                                                                    \r"
     ]
    },
    {
     "name": "stdout",
     "output_type": "stream",
     "text": [
      "    Epoch 1/15 - Train Loss: 2.4395, Acc: 45.45% | Val Loss: 1.4660, Acc: 75.41%\n"
     ]
    },
    {
     "name": "stderr",
     "output_type": "stream",
     "text": [
      "                                                                                                    \r"
     ]
    },
    {
     "name": "stdout",
     "output_type": "stream",
     "text": [
      "    Epoch 2/15 - Train Loss: 1.0569, Acc: 82.85% | Val Loss: 0.8850, Acc: 83.83%\n"
     ]
    },
    {
     "name": "stderr",
     "output_type": "stream",
     "text": [
      "                                                                                                    \r"
     ]
    },
    {
     "name": "stdout",
     "output_type": "stream",
     "text": [
      "    Epoch 3/15 - Train Loss: 0.6947, Acc: 87.70% | Val Loss: 0.6974, Acc: 85.46%\n"
     ]
    },
    {
     "name": "stderr",
     "output_type": "stream",
     "text": [
      "                                                                                                    \r"
     ]
    },
    {
     "name": "stdout",
     "output_type": "stream",
     "text": [
      "    Epoch 4/15 - Train Loss: 0.5306, Acc: 90.46% | Val Loss: 0.6004, Acc: 86.82%\n"
     ]
    },
    {
     "name": "stderr",
     "output_type": "stream",
     "text": [
      "                                                                                                    \r"
     ]
    },
    {
     "name": "stdout",
     "output_type": "stream",
     "text": [
      "    Epoch 5/15 - Train Loss: 0.4448, Acc: 91.44% | Val Loss: 0.5488, Acc: 86.14%\n"
     ]
    },
    {
     "name": "stderr",
     "output_type": "stream",
     "text": [
      "                                                                                                    \r"
     ]
    },
    {
     "name": "stdout",
     "output_type": "stream",
     "text": [
      "    Epoch 6/15 - Train Loss: 0.3766, Acc: 92.49% | Val Loss: 0.4990, Acc: 87.64%\n"
     ]
    },
    {
     "name": "stderr",
     "output_type": "stream",
     "text": [
      "                                                                                                    \r"
     ]
    },
    {
     "name": "stdout",
     "output_type": "stream",
     "text": [
      "    Epoch 7/15 - Train Loss: 0.3310, Acc: 93.82% | Val Loss: 0.4711, Acc: 87.36%\n"
     ]
    },
    {
     "name": "stderr",
     "output_type": "stream",
     "text": [
      "                                                                                                    \r"
     ]
    },
    {
     "name": "stdout",
     "output_type": "stream",
     "text": [
      "    Epoch 8/15 - Train Loss: 0.2939, Acc: 94.50% | Val Loss: 0.4453, Acc: 87.64%\n"
     ]
    },
    {
     "name": "stderr",
     "output_type": "stream",
     "text": [
      "                                                                                                    \r"
     ]
    },
    {
     "name": "stdout",
     "output_type": "stream",
     "text": [
      "    Epoch 9/15 - Train Loss: 0.2608, Acc: 95.52% | Val Loss: 0.4219, Acc: 88.86%\n"
     ]
    },
    {
     "name": "stderr",
     "output_type": "stream",
     "text": [
      "                                                                                                    \r"
     ]
    },
    {
     "name": "stdout",
     "output_type": "stream",
     "text": [
      "    Epoch 10/15 - Train Loss: 0.2418, Acc: 95.58% | Val Loss: 0.4316, Acc: 87.91%\n"
     ]
    },
    {
     "name": "stderr",
     "output_type": "stream",
     "text": [
      "                                                                                                    \r"
     ]
    },
    {
     "name": "stdout",
     "output_type": "stream",
     "text": [
      "    Epoch 11/15 - Train Loss: 0.2172, Acc: 96.23% | Val Loss: 0.4022, Acc: 88.45%\n"
     ]
    },
    {
     "name": "stderr",
     "output_type": "stream",
     "text": [
      "                                                                                                    \r"
     ]
    },
    {
     "name": "stdout",
     "output_type": "stream",
     "text": [
      "    Epoch 12/15 - Train Loss: 0.2004, Acc: 96.64% | Val Loss: 0.4170, Acc: 88.04%\n"
     ]
    },
    {
     "name": "stderr",
     "output_type": "stream",
     "text": [
      "                                                                                                    \r"
     ]
    },
    {
     "name": "stdout",
     "output_type": "stream",
     "text": [
      "    Epoch 13/15 - Train Loss: 0.1869, Acc: 96.88% | Val Loss: 0.3920, Acc: 88.72%\n"
     ]
    },
    {
     "name": "stderr",
     "output_type": "stream",
     "text": [
      "                                                                                                    \r"
     ]
    },
    {
     "name": "stdout",
     "output_type": "stream",
     "text": [
      "    Epoch 14/15 - Train Loss: 0.1701, Acc: 97.38% | Val Loss: 0.3890, Acc: 88.72%\n"
     ]
    },
    {
     "name": "stderr",
     "output_type": "stream",
     "text": [
      "                                                                                                    \r"
     ]
    },
    {
     "name": "stdout",
     "output_type": "stream",
     "text": [
      "    Epoch 15/15 - Train Loss: 0.1579, Acc: 97.79% | Val Loss: 0.3772, Acc: 88.59%\n",
      "    New best HPO params for resnet_head_noaug: {'lr_backbone': 0.0001, 'lr_head': 0.001, 'weight_decay': 0.01} with Val Acc: 88.59%\n",
      "  Trial 5/12 with params: {'lr_backbone': 0.0001, 'lr_head': 0.001, 'weight_decay': 0.001}\n",
      "    Adjusting lr_backbone to 0 for 'head' unfreeze strategy.\n"
     ]
    },
    {
     "name": "stderr",
     "output_type": "stream",
     "text": [
      "                                                                                                    \r"
     ]
    },
    {
     "name": "stdout",
     "output_type": "stream",
     "text": [
      "    Epoch 1/15 - Train Loss: 2.5404, Acc: 40.52% | Val Loss: 1.5230, Acc: 74.18%\n"
     ]
    },
    {
     "name": "stderr",
     "output_type": "stream",
     "text": [
      "                                                                                                    \r"
     ]
    },
    {
     "name": "stdout",
     "output_type": "stream",
     "text": [
      "    Epoch 2/15 - Train Loss: 1.1156, Acc: 81.66% | Val Loss: 0.9079, Acc: 82.47%\n"
     ]
    },
    {
     "name": "stderr",
     "output_type": "stream",
     "text": [
      "                                                                                                    \r"
     ]
    },
    {
     "name": "stdout",
     "output_type": "stream",
     "text": [
      "    Epoch 3/15 - Train Loss: 0.7070, Acc: 88.18% | Val Loss: 0.7067, Acc: 85.87%\n"
     ]
    },
    {
     "name": "stderr",
     "output_type": "stream",
     "text": [
      "                                                                                                    \r"
     ]
    },
    {
     "name": "stdout",
     "output_type": "stream",
     "text": [
      "    Epoch 4/15 - Train Loss: 0.5444, Acc: 90.76% | Val Loss: 0.6043, Acc: 86.41%\n"
     ]
    },
    {
     "name": "stderr",
     "output_type": "stream",
     "text": [
      "                                                                                                    \r"
     ]
    },
    {
     "name": "stdout",
     "output_type": "stream",
     "text": [
      "    Epoch 5/15 - Train Loss: 0.4417, Acc: 92.29% | Val Loss: 0.5436, Acc: 86.14%\n"
     ]
    },
    {
     "name": "stderr",
     "output_type": "stream",
     "text": [
      "                                                                                                    \r"
     ]
    },
    {
     "name": "stdout",
     "output_type": "stream",
     "text": [
      "    Epoch 6/15 - Train Loss: 0.3786, Acc: 93.17% | Val Loss: 0.5024, Acc: 86.82%\n"
     ]
    },
    {
     "name": "stderr",
     "output_type": "stream",
     "text": [
      "                                                                                                    \r"
     ]
    },
    {
     "name": "stdout",
     "output_type": "stream",
     "text": [
      "    Epoch 7/15 - Train Loss: 0.3351, Acc: 93.68% | Val Loss: 0.4692, Acc: 87.77%\n"
     ]
    },
    {
     "name": "stderr",
     "output_type": "stream",
     "text": [
      "                                                                                                    \r"
     ]
    },
    {
     "name": "stdout",
     "output_type": "stream",
     "text": [
      "    Epoch 8/15 - Train Loss: 0.2955, Acc: 94.74% | Val Loss: 0.4518, Acc: 87.77%\n"
     ]
    },
    {
     "name": "stderr",
     "output_type": "stream",
     "text": [
      "                                                                                                    \r"
     ]
    },
    {
     "name": "stdout",
     "output_type": "stream",
     "text": [
      "    Epoch 9/15 - Train Loss: 0.2605, Acc: 95.24% | Val Loss: 0.4325, Acc: 87.91%\n"
     ]
    },
    {
     "name": "stderr",
     "output_type": "stream",
     "text": [
      "                                                                                                    \r"
     ]
    },
    {
     "name": "stdout",
     "output_type": "stream",
     "text": [
      "    Epoch 10/15 - Train Loss: 0.2444, Acc: 95.48% | Val Loss: 0.4143, Acc: 88.99%\n"
     ]
    },
    {
     "name": "stderr",
     "output_type": "stream",
     "text": [
      "                                                                                                    \r"
     ]
    },
    {
     "name": "stdout",
     "output_type": "stream",
     "text": [
      "    Epoch 11/15 - Train Loss: 0.2194, Acc: 96.40% | Val Loss: 0.3990, Acc: 88.59%\n"
     ]
    },
    {
     "name": "stderr",
     "output_type": "stream",
     "text": [
      "                                                                                                    \r"
     ]
    },
    {
     "name": "stdout",
     "output_type": "stream",
     "text": [
      "    Epoch 12/15 - Train Loss: 0.2090, Acc: 96.06% | Val Loss: 0.3939, Acc: 88.72%\n"
     ]
    },
    {
     "name": "stderr",
     "output_type": "stream",
     "text": [
      "                                                                                                    \r"
     ]
    },
    {
     "name": "stdout",
     "output_type": "stream",
     "text": [
      "    Epoch 13/15 - Train Loss: 0.1838, Acc: 96.91% | Val Loss: 0.3800, Acc: 89.13%\n"
     ]
    },
    {
     "name": "stderr",
     "output_type": "stream",
     "text": [
      "                                                                                                    \r"
     ]
    },
    {
     "name": "stdout",
     "output_type": "stream",
     "text": [
      "    Epoch 14/15 - Train Loss: 0.1691, Acc: 97.59% | Val Loss: 0.3785, Acc: 88.72%\n"
     ]
    },
    {
     "name": "stderr",
     "output_type": "stream",
     "text": [
      "                                                                                                    \r"
     ]
    },
    {
     "name": "stdout",
     "output_type": "stream",
     "text": [
      "    Epoch 15/15 - Train Loss: 0.1588, Acc: 97.76% | Val Loss: 0.3862, Acc: 87.77%\n",
      "  Trial 6/12 with params: {'lr_backbone': 0.0001, 'lr_head': 0.001, 'weight_decay': 0}\n",
      "    Adjusting lr_backbone to 0 for 'head' unfreeze strategy.\n"
     ]
    },
    {
     "name": "stderr",
     "output_type": "stream",
     "text": [
      "                                                                                                    \r"
     ]
    },
    {
     "name": "stdout",
     "output_type": "stream",
     "text": [
      "    Epoch 1/15 - Train Loss: 2.5383, Acc: 41.64% | Val Loss: 1.5027, Acc: 73.23%\n"
     ]
    },
    {
     "name": "stderr",
     "output_type": "stream",
     "text": [
      "                                                                                                    \r"
     ]
    },
    {
     "name": "stdout",
     "output_type": "stream",
     "text": [
      "    Epoch 2/15 - Train Loss: 1.1001, Acc: 82.85% | Val Loss: 0.8770, Acc: 84.10%\n"
     ]
    },
    {
     "name": "stderr",
     "output_type": "stream",
     "text": [
      "                                                                                                    \r"
     ]
    },
    {
     "name": "stdout",
     "output_type": "stream",
     "text": [
      "    Epoch 3/15 - Train Loss: 0.7162, Acc: 87.36% | Val Loss: 0.6878, Acc: 86.28%\n"
     ]
    },
    {
     "name": "stderr",
     "output_type": "stream",
     "text": [
      "                                                                                                    \r"
     ]
    },
    {
     "name": "stdout",
     "output_type": "stream",
     "text": [
      "    Epoch 4/15 - Train Loss: 0.5439, Acc: 90.62% | Val Loss: 0.5867, Acc: 87.77%\n"
     ]
    },
    {
     "name": "stderr",
     "output_type": "stream",
     "text": [
      "                                                                                                    \r"
     ]
    },
    {
     "name": "stdout",
     "output_type": "stream",
     "text": [
      "    Epoch 5/15 - Train Loss: 0.4520, Acc: 91.07% | Val Loss: 0.5254, Acc: 88.59%\n"
     ]
    },
    {
     "name": "stderr",
     "output_type": "stream",
     "text": [
      "                                                                                                    \r"
     ]
    },
    {
     "name": "stdout",
     "output_type": "stream",
     "text": [
      "    Epoch 6/15 - Train Loss: 0.3811, Acc: 92.39% | Val Loss: 0.4914, Acc: 87.23%\n"
     ]
    },
    {
     "name": "stderr",
     "output_type": "stream",
     "text": [
      "                                                                                                    \r"
     ]
    },
    {
     "name": "stdout",
     "output_type": "stream",
     "text": [
      "    Epoch 7/15 - Train Loss: 0.3307, Acc: 93.92% | Val Loss: 0.4570, Acc: 88.99%\n"
     ]
    },
    {
     "name": "stderr",
     "output_type": "stream",
     "text": [
      "                                                                                                    \r"
     ]
    },
    {
     "name": "stdout",
     "output_type": "stream",
     "text": [
      "    Epoch 8/15 - Train Loss: 0.2983, Acc: 94.67% | Val Loss: 0.4354, Acc: 89.13%\n"
     ]
    },
    {
     "name": "stderr",
     "output_type": "stream",
     "text": [
      "                                                                                                    \r"
     ]
    },
    {
     "name": "stdout",
     "output_type": "stream",
     "text": [
      "    Epoch 9/15 - Train Loss: 0.2752, Acc: 95.07% | Val Loss: 0.4202, Acc: 89.95%\n"
     ]
    },
    {
     "name": "stderr",
     "output_type": "stream",
     "text": [
      "                                                                                                    \r"
     ]
    },
    {
     "name": "stdout",
     "output_type": "stream",
     "text": [
      "    Epoch 10/15 - Train Loss: 0.2399, Acc: 95.75% | Val Loss: 0.4031, Acc: 90.08%\n"
     ]
    },
    {
     "name": "stderr",
     "output_type": "stream",
     "text": [
      "                                                                                                    \r"
     ]
    },
    {
     "name": "stdout",
     "output_type": "stream",
     "text": [
      "    Epoch 11/15 - Train Loss: 0.2196, Acc: 96.26% | Val Loss: 0.3909, Acc: 90.08%\n"
     ]
    },
    {
     "name": "stderr",
     "output_type": "stream",
     "text": [
      "                                                                                                    \r"
     ]
    },
    {
     "name": "stdout",
     "output_type": "stream",
     "text": [
      "    Epoch 12/15 - Train Loss: 0.2026, Acc: 96.60% | Val Loss: 0.3841, Acc: 89.54%\n"
     ]
    },
    {
     "name": "stderr",
     "output_type": "stream",
     "text": [
      "                                                                                                    \r"
     ]
    },
    {
     "name": "stdout",
     "output_type": "stream",
     "text": [
      "    Epoch 13/15 - Train Loss: 0.1867, Acc: 96.71% | Val Loss: 0.3796, Acc: 89.67%\n"
     ]
    },
    {
     "name": "stderr",
     "output_type": "stream",
     "text": [
      "                                                                                                    \r"
     ]
    },
    {
     "name": "stdout",
     "output_type": "stream",
     "text": [
      "    Epoch 14/15 - Train Loss: 0.1736, Acc: 97.42% | Val Loss: 0.3834, Acc: 89.27%\n"
     ]
    },
    {
     "name": "stderr",
     "output_type": "stream",
     "text": [
      "                                                                                                    \r"
     ]
    },
    {
     "name": "stdout",
     "output_type": "stream",
     "text": [
      "    Epoch 15/15 - Train Loss: 0.1658, Acc: 97.35% | Val Loss: 0.3734, Acc: 89.13%\n",
      "    New best HPO params for resnet_head_noaug: {'lr_backbone': 0.0001, 'lr_head': 0.001, 'weight_decay': 0} with Val Acc: 89.13%\n",
      "  Trial 7/12 with params: {'lr_backbone': 5e-05, 'lr_head': 0.005, 'weight_decay': 0.01}\n",
      "    Adjusting lr_backbone to 0 for 'head' unfreeze strategy.\n"
     ]
    },
    {
     "name": "stderr",
     "output_type": "stream",
     "text": [
      "                                                                                                    \r"
     ]
    },
    {
     "name": "stdout",
     "output_type": "stream",
     "text": [
      "    Epoch 1/15 - Train Loss: 1.4136, Acc: 62.70% | Val Loss: 0.5853, Acc: 82.88%\n"
     ]
    },
    {
     "name": "stderr",
     "output_type": "stream",
     "text": [
      "                                                                                                    \r"
     ]
    },
    {
     "name": "stdout",
     "output_type": "stream",
     "text": [
      "    Epoch 2/15 - Train Loss: 0.3967, Acc: 88.89% | Val Loss: 0.5079, Acc: 84.24%\n"
     ]
    },
    {
     "name": "stderr",
     "output_type": "stream",
     "text": [
      "                                                                                                    \r"
     ]
    },
    {
     "name": "stdout",
     "output_type": "stream",
     "text": [
      "    Epoch 3/15 - Train Loss: 0.2806, Acc: 92.22% | Val Loss: 0.4148, Acc: 86.96%\n"
     ]
    },
    {
     "name": "stderr",
     "output_type": "stream",
     "text": [
      "                                                                                                    \r"
     ]
    },
    {
     "name": "stdout",
     "output_type": "stream",
     "text": [
      "    Epoch 4/15 - Train Loss: 0.2016, Acc: 94.63% | Val Loss: 0.4383, Acc: 84.51%\n"
     ]
    },
    {
     "name": "stderr",
     "output_type": "stream",
     "text": [
      "                                                                                                    \r"
     ]
    },
    {
     "name": "stdout",
     "output_type": "stream",
     "text": [
      "    Epoch 5/15 - Train Loss: 0.1611, Acc: 95.99% | Val Loss: 0.3891, Acc: 87.36%\n"
     ]
    },
    {
     "name": "stderr",
     "output_type": "stream",
     "text": [
      "                                                                                                    \r"
     ]
    },
    {
     "name": "stdout",
     "output_type": "stream",
     "text": [
      "    Epoch 6/15 - Train Loss: 0.1275, Acc: 97.01% | Val Loss: 0.3768, Acc: 87.64%\n"
     ]
    },
    {
     "name": "stderr",
     "output_type": "stream",
     "text": [
      "                                                                                                    \r"
     ]
    },
    {
     "name": "stdout",
     "output_type": "stream",
     "text": [
      "    Epoch 7/15 - Train Loss: 0.0951, Acc: 98.34% | Val Loss: 0.3749, Acc: 87.77%\n"
     ]
    },
    {
     "name": "stderr",
     "output_type": "stream",
     "text": [
      "                                                                                                    \r"
     ]
    },
    {
     "name": "stdout",
     "output_type": "stream",
     "text": [
      "    Epoch 8/15 - Train Loss: 0.0873, Acc: 98.23% | Val Loss: 0.4044, Acc: 86.41%\n"
     ]
    },
    {
     "name": "stderr",
     "output_type": "stream",
     "text": [
      "                                                                                                    \r"
     ]
    },
    {
     "name": "stdout",
     "output_type": "stream",
     "text": [
      "    Epoch 9/15 - Train Loss: 0.0671, Acc: 99.42% | Val Loss: 0.3674, Acc: 87.91%\n"
     ]
    },
    {
     "name": "stderr",
     "output_type": "stream",
     "text": [
      "                                                                                                    \r"
     ]
    },
    {
     "name": "stdout",
     "output_type": "stream",
     "text": [
      "    Epoch 10/15 - Train Loss: 0.0654, Acc: 99.15% | Val Loss: 0.3832, Acc: 87.64%\n"
     ]
    },
    {
     "name": "stderr",
     "output_type": "stream",
     "text": [
      "                                                                                                    \r"
     ]
    },
    {
     "name": "stdout",
     "output_type": "stream",
     "text": [
      "    Epoch 11/15 - Train Loss: 0.0579, Acc: 99.22% | Val Loss: 0.3829, Acc: 88.72%\n"
     ]
    },
    {
     "name": "stderr",
     "output_type": "stream",
     "text": [
      "                                                                                                    \r"
     ]
    },
    {
     "name": "stdout",
     "output_type": "stream",
     "text": [
      "    Epoch 12/15 - Train Loss: 0.0493, Acc: 99.42% | Val Loss: 0.3687, Acc: 88.18%\n"
     ]
    },
    {
     "name": "stderr",
     "output_type": "stream",
     "text": [
      "                                                                                                    \r"
     ]
    },
    {
     "name": "stdout",
     "output_type": "stream",
     "text": [
      "    Epoch 13/15 - Train Loss: 0.0444, Acc: 99.56% | Val Loss: 0.3827, Acc: 88.04%\n"
     ]
    },
    {
     "name": "stderr",
     "output_type": "stream",
     "text": [
      "                                                                                                    \r"
     ]
    },
    {
     "name": "stdout",
     "output_type": "stream",
     "text": [
      "    Epoch 14/15 - Train Loss: 0.0416, Acc: 99.66% | Val Loss: 0.3833, Acc: 87.77%\n"
     ]
    },
    {
     "name": "stderr",
     "output_type": "stream",
     "text": [
      "                                                                                                    \r"
     ]
    },
    {
     "name": "stdout",
     "output_type": "stream",
     "text": [
      "    Epoch 15/15 - Train Loss: 0.0340, Acc: 99.80% | Val Loss: 0.4335, Acc: 85.60%\n",
      "  Trial 8/12 with params: {'lr_backbone': 5e-05, 'lr_head': 0.005, 'weight_decay': 0.001}\n",
      "    Adjusting lr_backbone to 0 for 'head' unfreeze strategy.\n"
     ]
    },
    {
     "name": "stderr",
     "output_type": "stream",
     "text": [
      "                                                                                                    \r"
     ]
    },
    {
     "name": "stdout",
     "output_type": "stream",
     "text": [
      "    Epoch 1/15 - Train Loss: 1.4449, Acc: 61.38% | Val Loss: 0.6019, Acc: 81.93%\n"
     ]
    },
    {
     "name": "stderr",
     "output_type": "stream",
     "text": [
      "                                                                                                    \r"
     ]
    },
    {
     "name": "stdout",
     "output_type": "stream",
     "text": [
      "    Epoch 2/15 - Train Loss: 0.3916, Acc: 89.33% | Val Loss: 0.4550, Acc: 86.14%\n"
     ]
    },
    {
     "name": "stderr",
     "output_type": "stream",
     "text": [
      "                                                                                                    \r"
     ]
    },
    {
     "name": "stdout",
     "output_type": "stream",
     "text": [
      "    Epoch 3/15 - Train Loss: 0.2729, Acc: 92.80% | Val Loss: 0.3982, Acc: 87.77%\n"
     ]
    },
    {
     "name": "stderr",
     "output_type": "stream",
     "text": [
      "                                                                                                    \r"
     ]
    },
    {
     "name": "stdout",
     "output_type": "stream",
     "text": [
      "    Epoch 4/15 - Train Loss: 0.2165, Acc: 94.16% | Val Loss: 0.4101, Acc: 87.77%\n"
     ]
    },
    {
     "name": "stderr",
     "output_type": "stream",
     "text": [
      "                                                                                                    \r"
     ]
    },
    {
     "name": "stdout",
     "output_type": "stream",
     "text": [
      "    Epoch 5/15 - Train Loss: 0.1511, Acc: 95.99% | Val Loss: 0.4254, Acc: 86.01%\n"
     ]
    },
    {
     "name": "stderr",
     "output_type": "stream",
     "text": [
      "                                                                                                    \r"
     ]
    },
    {
     "name": "stdout",
     "output_type": "stream",
     "text": [
      "    Epoch 6/15 - Train Loss: 0.1282, Acc: 97.18% | Val Loss: 0.4003, Acc: 87.77%\n"
     ]
    },
    {
     "name": "stderr",
     "output_type": "stream",
     "text": [
      "                                                                                                    \r"
     ]
    },
    {
     "name": "stdout",
     "output_type": "stream",
     "text": [
      "    Epoch 7/15 - Train Loss: 0.1015, Acc: 98.17% | Val Loss: 0.3573, Acc: 90.08%\n"
     ]
    },
    {
     "name": "stderr",
     "output_type": "stream",
     "text": [
      "                                                                                                    \r"
     ]
    },
    {
     "name": "stdout",
     "output_type": "stream",
     "text": [
      "    Epoch 8/15 - Train Loss: 0.0847, Acc: 98.44% | Val Loss: 0.3791, Acc: 88.59%\n"
     ]
    },
    {
     "name": "stderr",
     "output_type": "stream",
     "text": [
      "                                                                                                    \r"
     ]
    },
    {
     "name": "stdout",
     "output_type": "stream",
     "text": [
      "    Epoch 9/15 - Train Loss: 0.0759, Acc: 98.64% | Val Loss: 0.3502, Acc: 89.27%\n"
     ]
    },
    {
     "name": "stderr",
     "output_type": "stream",
     "text": [
      "                                                                                                    \r"
     ]
    },
    {
     "name": "stdout",
     "output_type": "stream",
     "text": [
      "    Epoch 10/15 - Train Loss: 0.0614, Acc: 99.18% | Val Loss: 0.3636, Acc: 88.86%\n"
     ]
    },
    {
     "name": "stderr",
     "output_type": "stream",
     "text": [
      "                                                                                                    \r"
     ]
    },
    {
     "name": "stdout",
     "output_type": "stream",
     "text": [
      "    Epoch 11/15 - Train Loss: 0.0632, Acc: 98.91% | Val Loss: 0.4003, Acc: 87.23%\n"
     ]
    },
    {
     "name": "stderr",
     "output_type": "stream",
     "text": [
      "                                                                                                    \r"
     ]
    },
    {
     "name": "stdout",
     "output_type": "stream",
     "text": [
      "    Epoch 12/15 - Train Loss: 0.0531, Acc: 99.18% | Val Loss: 0.3860, Acc: 87.36%\n"
     ]
    },
    {
     "name": "stderr",
     "output_type": "stream",
     "text": [
      "                                                                                                    \r"
     ]
    },
    {
     "name": "stdout",
     "output_type": "stream",
     "text": [
      "    Epoch 13/15 - Train Loss: 0.0403, Acc: 99.73% | Val Loss: 0.4163, Acc: 87.50%\n"
     ]
    },
    {
     "name": "stderr",
     "output_type": "stream",
     "text": [
      "                                                                                                    \r"
     ]
    },
    {
     "name": "stdout",
     "output_type": "stream",
     "text": [
      "    Epoch 14/15 - Train Loss: 0.0415, Acc: 99.46% | Val Loss: 0.4287, Acc: 86.55%\n"
     ]
    },
    {
     "name": "stderr",
     "output_type": "stream",
     "text": [
      "                                                                                                    \r"
     ]
    },
    {
     "name": "stdout",
     "output_type": "stream",
     "text": [
      "    Epoch 15/15 - Train Loss: 0.0353, Acc: 99.63% | Val Loss: 0.3897, Acc: 86.68%\n",
      "  Trial 9/12 with params: {'lr_backbone': 5e-05, 'lr_head': 0.005, 'weight_decay': 0}\n",
      "    Adjusting lr_backbone to 0 for 'head' unfreeze strategy.\n"
     ]
    },
    {
     "name": "stderr",
     "output_type": "stream",
     "text": [
      "                                                                                                    \r"
     ]
    },
    {
     "name": "stdout",
     "output_type": "stream",
     "text": [
      "    Epoch 1/15 - Train Loss: 1.4605, Acc: 60.90% | Val Loss: 0.5798, Acc: 82.74%\n"
     ]
    },
    {
     "name": "stderr",
     "output_type": "stream",
     "text": [
      "                                                                                                    \r"
     ]
    },
    {
     "name": "stdout",
     "output_type": "stream",
     "text": [
      "    Epoch 2/15 - Train Loss: 0.3870, Acc: 89.57% | Val Loss: 0.4675, Acc: 84.24%\n"
     ]
    },
    {
     "name": "stderr",
     "output_type": "stream",
     "text": [
      "                                                                                                    \r"
     ]
    },
    {
     "name": "stdout",
     "output_type": "stream",
     "text": [
      "    Epoch 3/15 - Train Loss: 0.2692, Acc: 92.43% | Val Loss: 0.4843, Acc: 84.10%\n"
     ]
    },
    {
     "name": "stderr",
     "output_type": "stream",
     "text": [
      "                                                                                                    \r"
     ]
    },
    {
     "name": "stdout",
     "output_type": "stream",
     "text": [
      "    Epoch 4/15 - Train Loss: 0.2053, Acc: 94.94% | Val Loss: 0.3855, Acc: 86.96%\n"
     ]
    },
    {
     "name": "stderr",
     "output_type": "stream",
     "text": [
      "                                                                                                    \r"
     ]
    },
    {
     "name": "stdout",
     "output_type": "stream",
     "text": [
      "    Epoch 5/15 - Train Loss: 0.1510, Acc: 96.60% | Val Loss: 0.4026, Acc: 87.36%\n"
     ]
    },
    {
     "name": "stderr",
     "output_type": "stream",
     "text": [
      "                                                                                                    \r"
     ]
    },
    {
     "name": "stdout",
     "output_type": "stream",
     "text": [
      "    Epoch 6/15 - Train Loss: 0.1260, Acc: 97.42% | Val Loss: 0.3780, Acc: 88.04%\n"
     ]
    },
    {
     "name": "stderr",
     "output_type": "stream",
     "text": [
      "                                                                                                    \r"
     ]
    },
    {
     "name": "stdout",
     "output_type": "stream",
     "text": [
      "    Epoch 7/15 - Train Loss: 0.1050, Acc: 97.79% | Val Loss: 0.3868, Acc: 87.91%\n"
     ]
    },
    {
     "name": "stderr",
     "output_type": "stream",
     "text": [
      "                                                                                                    \r"
     ]
    },
    {
     "name": "stdout",
     "output_type": "stream",
     "text": [
      "    Epoch 8/15 - Train Loss: 0.0925, Acc: 98.30% | Val Loss: 0.3951, Acc: 86.82%\n"
     ]
    },
    {
     "name": "stderr",
     "output_type": "stream",
     "text": [
      "                                                                                                    \r"
     ]
    },
    {
     "name": "stdout",
     "output_type": "stream",
     "text": [
      "    Epoch 9/15 - Train Loss: 0.0730, Acc: 98.74% | Val Loss: 0.3524, Acc: 88.72%\n"
     ]
    },
    {
     "name": "stderr",
     "output_type": "stream",
     "text": [
      "                                                                                                    \r"
     ]
    },
    {
     "name": "stdout",
     "output_type": "stream",
     "text": [
      "    Epoch 10/15 - Train Loss: 0.0593, Acc: 99.15% | Val Loss: 0.3678, Acc: 87.64%\n"
     ]
    },
    {
     "name": "stderr",
     "output_type": "stream",
     "text": [
      "                                                                                                    \r"
     ]
    },
    {
     "name": "stdout",
     "output_type": "stream",
     "text": [
      "    Epoch 11/15 - Train Loss: 0.0527, Acc: 99.56% | Val Loss: 0.3865, Acc: 87.09%\n"
     ]
    },
    {
     "name": "stderr",
     "output_type": "stream",
     "text": [
      "                                                                                                    \r"
     ]
    },
    {
     "name": "stdout",
     "output_type": "stream",
     "text": [
      "    Epoch 12/15 - Train Loss: 0.0488, Acc: 99.46% | Val Loss: 0.4171, Acc: 86.41%\n"
     ]
    },
    {
     "name": "stderr",
     "output_type": "stream",
     "text": [
      "                                                                                                    \r"
     ]
    },
    {
     "name": "stdout",
     "output_type": "stream",
     "text": [
      "    Epoch 13/15 - Train Loss: 0.0457, Acc: 99.42% | Val Loss: 0.4297, Acc: 87.23%\n"
     ]
    },
    {
     "name": "stderr",
     "output_type": "stream",
     "text": [
      "                                                                                                    \r"
     ]
    },
    {
     "name": "stdout",
     "output_type": "stream",
     "text": [
      "    Epoch 14/15 - Train Loss: 0.0413, Acc: 99.42% | Val Loss: 0.4035, Acc: 87.36%\n"
     ]
    },
    {
     "name": "stderr",
     "output_type": "stream",
     "text": [
      "                                                                                                    \r"
     ]
    },
    {
     "name": "stdout",
     "output_type": "stream",
     "text": [
      "    Epoch 15/15 - Train Loss: 0.0298, Acc: 99.90% | Val Loss: 0.3774, Acc: 88.32%\n",
      "  Trial 10/12 with params: {'lr_backbone': 5e-05, 'lr_head': 0.001, 'weight_decay': 0.01}\n",
      "    Adjusting lr_backbone to 0 for 'head' unfreeze strategy.\n"
     ]
    },
    {
     "name": "stderr",
     "output_type": "stream",
     "text": [
      "                                                                                                    \r"
     ]
    },
    {
     "name": "stdout",
     "output_type": "stream",
     "text": [
      "    Epoch 1/15 - Train Loss: 2.5304, Acc: 41.30% | Val Loss: 1.4993, Acc: 72.83%\n"
     ]
    },
    {
     "name": "stderr",
     "output_type": "stream",
     "text": [
      "                                                                                                    \r"
     ]
    },
    {
     "name": "stdout",
     "output_type": "stream",
     "text": [
      "    Epoch 2/15 - Train Loss: 1.1071, Acc: 80.91% | Val Loss: 0.8926, Acc: 84.24%\n"
     ]
    },
    {
     "name": "stderr",
     "output_type": "stream",
     "text": [
      "                                                                                                    \r"
     ]
    },
    {
     "name": "stdout",
     "output_type": "stream",
     "text": [
      "    Epoch 3/15 - Train Loss: 0.7079, Acc: 87.60% | Val Loss: 0.7111, Acc: 84.24%\n"
     ]
    },
    {
     "name": "stderr",
     "output_type": "stream",
     "text": [
      "                                                                                                    \r"
     ]
    },
    {
     "name": "stdout",
     "output_type": "stream",
     "text": [
      "    Epoch 4/15 - Train Loss: 0.5418, Acc: 90.25% | Val Loss: 0.5927, Acc: 86.28%\n"
     ]
    },
    {
     "name": "stderr",
     "output_type": "stream",
     "text": [
      "                                                                                                    \r"
     ]
    },
    {
     "name": "stdout",
     "output_type": "stream",
     "text": [
      "    Epoch 5/15 - Train Loss: 0.4531, Acc: 91.85% | Val Loss: 0.5280, Acc: 87.50%\n"
     ]
    },
    {
     "name": "stderr",
     "output_type": "stream",
     "text": [
      "                                                                                                    \r"
     ]
    },
    {
     "name": "stdout",
     "output_type": "stream",
     "text": [
      "    Epoch 6/15 - Train Loss: 0.3803, Acc: 93.00% | Val Loss: 0.4870, Acc: 87.91%\n"
     ]
    },
    {
     "name": "stderr",
     "output_type": "stream",
     "text": [
      "                                                                                                    \r"
     ]
    },
    {
     "name": "stdout",
     "output_type": "stream",
     "text": [
      "    Epoch 7/15 - Train Loss: 0.3366, Acc: 93.72% | Val Loss: 0.4690, Acc: 86.96%\n"
     ]
    },
    {
     "name": "stderr",
     "output_type": "stream",
     "text": [
      "                                                                                                    \r"
     ]
    },
    {
     "name": "stdout",
     "output_type": "stream",
     "text": [
      "    Epoch 8/15 - Train Loss: 0.2974, Acc: 94.33% | Val Loss: 0.4350, Acc: 88.72%\n"
     ]
    },
    {
     "name": "stderr",
     "output_type": "stream",
     "text": [
      "                                                                                                    \r"
     ]
    },
    {
     "name": "stdout",
     "output_type": "stream",
     "text": [
      "    Epoch 9/15 - Train Loss: 0.2637, Acc: 95.28% | Val Loss: 0.4091, Acc: 89.67%\n"
     ]
    },
    {
     "name": "stderr",
     "output_type": "stream",
     "text": [
      "                                                                                                    \r"
     ]
    },
    {
     "name": "stdout",
     "output_type": "stream",
     "text": [
      "    Epoch 10/15 - Train Loss: 0.2417, Acc: 95.65% | Val Loss: 0.4105, Acc: 88.32%\n"
     ]
    },
    {
     "name": "stderr",
     "output_type": "stream",
     "text": [
      "                                                                                                    \r"
     ]
    },
    {
     "name": "stdout",
     "output_type": "stream",
     "text": [
      "    Epoch 11/15 - Train Loss: 0.2167, Acc: 96.16% | Val Loss: 0.4020, Acc: 88.72%\n"
     ]
    },
    {
     "name": "stderr",
     "output_type": "stream",
     "text": [
      "                                                                                                    \r"
     ]
    },
    {
     "name": "stdout",
     "output_type": "stream",
     "text": [
      "    Epoch 12/15 - Train Loss: 0.2004, Acc: 96.64% | Val Loss: 0.3925, Acc: 88.86%\n"
     ]
    },
    {
     "name": "stderr",
     "output_type": "stream",
     "text": [
      "                                                                                                    \r"
     ]
    },
    {
     "name": "stdout",
     "output_type": "stream",
     "text": [
      "    Epoch 13/15 - Train Loss: 0.1866, Acc: 97.08% | Val Loss: 0.3844, Acc: 88.04%\n"
     ]
    },
    {
     "name": "stderr",
     "output_type": "stream",
     "text": [
      "                                                                                                    \r"
     ]
    },
    {
     "name": "stdout",
     "output_type": "stream",
     "text": [
      "    Epoch 14/15 - Train Loss: 0.1774, Acc: 96.77% | Val Loss: 0.3816, Acc: 88.18%\n"
     ]
    },
    {
     "name": "stderr",
     "output_type": "stream",
     "text": [
      "                                                                                                    \r"
     ]
    },
    {
     "name": "stdout",
     "output_type": "stream",
     "text": [
      "    Epoch 15/15 - Train Loss: 0.1636, Acc: 97.45% | Val Loss: 0.3767, Acc: 88.86%\n",
      "  Trial 11/12 with params: {'lr_backbone': 5e-05, 'lr_head': 0.001, 'weight_decay': 0.001}\n",
      "    Adjusting lr_backbone to 0 for 'head' unfreeze strategy.\n"
     ]
    },
    {
     "name": "stderr",
     "output_type": "stream",
     "text": [
      "                                                                                                    \r"
     ]
    },
    {
     "name": "stdout",
     "output_type": "stream",
     "text": [
      "    Epoch 1/15 - Train Loss: 2.4248, Acc: 44.90% | Val Loss: 1.4444, Acc: 73.51%\n"
     ]
    },
    {
     "name": "stderr",
     "output_type": "stream",
     "text": [
      "                                                                                                    \r"
     ]
    },
    {
     "name": "stdout",
     "output_type": "stream",
     "text": [
      "    Epoch 2/15 - Train Loss: 1.0504, Acc: 83.53% | Val Loss: 0.8722, Acc: 83.15%\n"
     ]
    },
    {
     "name": "stderr",
     "output_type": "stream",
     "text": [
      "                                                                                                    \r"
     ]
    },
    {
     "name": "stdout",
     "output_type": "stream",
     "text": [
      "    Epoch 3/15 - Train Loss: 0.6816, Acc: 88.82% | Val Loss: 0.6814, Acc: 85.60%\n"
     ]
    },
    {
     "name": "stderr",
     "output_type": "stream",
     "text": [
      "                                                                                                    \r"
     ]
    },
    {
     "name": "stdout",
     "output_type": "stream",
     "text": [
      "    Epoch 4/15 - Train Loss: 0.5167, Acc: 91.07% | Val Loss: 0.5749, Acc: 86.96%\n"
     ]
    },
    {
     "name": "stderr",
     "output_type": "stream",
     "text": [
      "                                                                                                    \r"
     ]
    },
    {
     "name": "stdout",
     "output_type": "stream",
     "text": [
      "    Epoch 5/15 - Train Loss: 0.4317, Acc: 92.12% | Val Loss: 0.5139, Acc: 88.72%\n"
     ]
    },
    {
     "name": "stderr",
     "output_type": "stream",
     "text": [
      "                                                                                                    \r"
     ]
    },
    {
     "name": "stdout",
     "output_type": "stream",
     "text": [
      "    Epoch 6/15 - Train Loss: 0.3674, Acc: 93.38% | Val Loss: 0.4815, Acc: 88.04%\n"
     ]
    },
    {
     "name": "stderr",
     "output_type": "stream",
     "text": [
      "                                                                                                    \r"
     ]
    },
    {
     "name": "stdout",
     "output_type": "stream",
     "text": [
      "    Epoch 7/15 - Train Loss: 0.3239, Acc: 94.19% | Val Loss: 0.4670, Acc: 87.64%\n"
     ]
    },
    {
     "name": "stderr",
     "output_type": "stream",
     "text": [
      "                                                                                                    \r"
     ]
    },
    {
     "name": "stdout",
     "output_type": "stream",
     "text": [
      "    Epoch 8/15 - Train Loss: 0.2849, Acc: 95.01% | Val Loss: 0.4276, Acc: 89.27%\n"
     ]
    },
    {
     "name": "stderr",
     "output_type": "stream",
     "text": [
      "                                                                                                    \r"
     ]
    },
    {
     "name": "stdout",
     "output_type": "stream",
     "text": [
      "    Epoch 9/15 - Train Loss: 0.2552, Acc: 95.35% | Val Loss: 0.4162, Acc: 89.40%\n"
     ]
    },
    {
     "name": "stderr",
     "output_type": "stream",
     "text": [
      "                                                                                                    \r"
     ]
    },
    {
     "name": "stdout",
     "output_type": "stream",
     "text": [
      "    Epoch 10/15 - Train Loss: 0.2283, Acc: 96.06% | Val Loss: 0.4027, Acc: 89.27%\n"
     ]
    },
    {
     "name": "stderr",
     "output_type": "stream",
     "text": [
      "                                                                                                    \r"
     ]
    },
    {
     "name": "stdout",
     "output_type": "stream",
     "text": [
      "    Epoch 11/15 - Train Loss: 0.2148, Acc: 96.50% | Val Loss: 0.4041, Acc: 88.32%\n"
     ]
    },
    {
     "name": "stderr",
     "output_type": "stream",
     "text": [
      "                                                                                                    \r"
     ]
    },
    {
     "name": "stdout",
     "output_type": "stream",
     "text": [
      "    Epoch 12/15 - Train Loss: 0.1987, Acc: 96.67% | Val Loss: 0.3883, Acc: 89.13%\n"
     ]
    },
    {
     "name": "stderr",
     "output_type": "stream",
     "text": [
      "                                                                                                    \r"
     ]
    },
    {
     "name": "stdout",
     "output_type": "stream",
     "text": [
      "    Epoch 13/15 - Train Loss: 0.1821, Acc: 97.15% | Val Loss: 0.3824, Acc: 89.27%\n"
     ]
    },
    {
     "name": "stderr",
     "output_type": "stream",
     "text": [
      "                                                                                                    \r"
     ]
    },
    {
     "name": "stdout",
     "output_type": "stream",
     "text": [
      "    Epoch 14/15 - Train Loss: 0.1701, Acc: 97.45% | Val Loss: 0.3702, Acc: 89.27%\n"
     ]
    },
    {
     "name": "stderr",
     "output_type": "stream",
     "text": [
      "                                                                                                    \r"
     ]
    },
    {
     "name": "stdout",
     "output_type": "stream",
     "text": [
      "    Epoch 15/15 - Train Loss: 0.1527, Acc: 97.72% | Val Loss: 0.3762, Acc: 89.54%\n",
      "    New best HPO params for resnet_head_noaug: {'lr_backbone': 5e-05, 'lr_head': 0.001, 'weight_decay': 0.001} with Val Acc: 89.54%\n",
      "  Trial 12/12 with params: {'lr_backbone': 5e-05, 'lr_head': 0.001, 'weight_decay': 0}\n",
      "    Adjusting lr_backbone to 0 for 'head' unfreeze strategy.\n"
     ]
    },
    {
     "name": "stderr",
     "output_type": "stream",
     "text": [
      "                                                                                                    \r"
     ]
    },
    {
     "name": "stdout",
     "output_type": "stream",
     "text": [
      "    Epoch 1/15 - Train Loss: 2.4265, Acc: 44.84% | Val Loss: 1.4369, Acc: 77.72%\n"
     ]
    },
    {
     "name": "stderr",
     "output_type": "stream",
     "text": [
      "                                                                                                    \r"
     ]
    },
    {
     "name": "stdout",
     "output_type": "stream",
     "text": [
      "    Epoch 2/15 - Train Loss: 1.0543, Acc: 83.80% | Val Loss: 0.8754, Acc: 83.42%\n"
     ]
    },
    {
     "name": "stderr",
     "output_type": "stream",
     "text": [
      "                                                                                                    \r"
     ]
    },
    {
     "name": "stdout",
     "output_type": "stream",
     "text": [
      "    Epoch 3/15 - Train Loss: 0.6870, Acc: 88.28% | Val Loss: 0.6825, Acc: 85.46%\n"
     ]
    },
    {
     "name": "stderr",
     "output_type": "stream",
     "text": [
      "                                                                                                    \r"
     ]
    },
    {
     "name": "stdout",
     "output_type": "stream",
     "text": [
      "    Epoch 4/15 - Train Loss: 0.5192, Acc: 91.10% | Val Loss: 0.5732, Acc: 88.72%\n"
     ]
    },
    {
     "name": "stderr",
     "output_type": "stream",
     "text": [
      "                                                                                                    \r"
     ]
    },
    {
     "name": "stdout",
     "output_type": "stream",
     "text": [
      "    Epoch 5/15 - Train Loss: 0.4358, Acc: 92.05% | Val Loss: 0.5409, Acc: 86.68%\n"
     ]
    },
    {
     "name": "stderr",
     "output_type": "stream",
     "text": [
      "                                                                                                    \r"
     ]
    },
    {
     "name": "stdout",
     "output_type": "stream",
     "text": [
      "    Epoch 6/15 - Train Loss: 0.3762, Acc: 92.80% | Val Loss: 0.4939, Acc: 88.45%\n"
     ]
    },
    {
     "name": "stderr",
     "output_type": "stream",
     "text": [
      "                                                                                                    \r"
     ]
    },
    {
     "name": "stdout",
     "output_type": "stream",
     "text": [
      "    Epoch 7/15 - Train Loss: 0.3289, Acc: 93.24% | Val Loss: 0.4628, Acc: 88.45%\n"
     ]
    },
    {
     "name": "stderr",
     "output_type": "stream",
     "text": [
      "                                                                                                    \r"
     ]
    },
    {
     "name": "stdout",
     "output_type": "stream",
     "text": [
      "    Epoch 8/15 - Train Loss: 0.2862, Acc: 94.29% | Val Loss: 0.4309, Acc: 89.40%\n"
     ]
    },
    {
     "name": "stderr",
     "output_type": "stream",
     "text": [
      "                                                                                                    \r"
     ]
    },
    {
     "name": "stdout",
     "output_type": "stream",
     "text": [
      "    Epoch 9/15 - Train Loss: 0.2591, Acc: 95.35% | Val Loss: 0.4328, Acc: 89.27%\n"
     ]
    },
    {
     "name": "stderr",
     "output_type": "stream",
     "text": [
      "                                                                                                    \r"
     ]
    },
    {
     "name": "stdout",
     "output_type": "stream",
     "text": [
      "    Epoch 10/15 - Train Loss: 0.2372, Acc: 95.62% | Val Loss: 0.4103, Acc: 88.72%\n"
     ]
    },
    {
     "name": "stderr",
     "output_type": "stream",
     "text": [
      "                                                                                                    \r"
     ]
    },
    {
     "name": "stdout",
     "output_type": "stream",
     "text": [
      "    Epoch 11/15 - Train Loss: 0.2132, Acc: 96.37% | Val Loss: 0.3966, Acc: 89.40%\n"
     ]
    },
    {
     "name": "stderr",
     "output_type": "stream",
     "text": [
      "                                                                                                    \r"
     ]
    },
    {
     "name": "stdout",
     "output_type": "stream",
     "text": [
      "    Epoch 12/15 - Train Loss: 0.1913, Acc: 96.94% | Val Loss: 0.3896, Acc: 89.13%\n"
     ]
    },
    {
     "name": "stderr",
     "output_type": "stream",
     "text": [
      "                                                                                                    \r"
     ]
    },
    {
     "name": "stdout",
     "output_type": "stream",
     "text": [
      "    Epoch 13/15 - Train Loss: 0.1813, Acc: 96.94% | Val Loss: 0.3849, Acc: 89.27%\n"
     ]
    },
    {
     "name": "stderr",
     "output_type": "stream",
     "text": [
      "                                                                                                    \r"
     ]
    },
    {
     "name": "stdout",
     "output_type": "stream",
     "text": [
      "    Epoch 14/15 - Train Loss: 0.1666, Acc: 97.79% | Val Loss: 0.3789, Acc: 89.67%\n"
     ]
    },
    {
     "name": "stderr",
     "output_type": "stream",
     "text": [
      "Downloading: \"https://download.pytorch.org/models/mobilenet_v3_small-047dcff4.pth\" to /home/julianm56/.cache/torch/hub/checkpoints/mobilenet_v3_small-047dcff4.pth\n"
     ]
    },
    {
     "name": "stdout",
     "output_type": "stream",
     "text": [
      "    Epoch 15/15 - Train Loss: 0.1552, Acc: 97.93% | Val Loss: 0.3672, Acc: 88.86%\n",
      "  Full HPO history for resnet_head_noaug saved to: ../results/hpo/hpo_history_resnet_head_noaug.json\n",
      "  Best hyperparameters for resnet_head_noaug saved to: ../results/hpo/best_params_resnet_head_noaug.json\n",
      "--- Finished HPO for Setup ID: resnet_head_noaug ---\n",
      "\n",
      "********** HPO Stage for resnet_head_noaug finished in 21.19 minutes **********\n",
      "Best HPO parameters found for resnet_head_noaug: {'lr_backbone': 5e-05, 'lr_head': 0.001, 'weight_decay': 0.001}\n",
      "\n",
      "Running HPO for setup: mobilenet_mid_aug\n",
      "--- Starting HPO for Setup ID: mobilenet_mid_aug ---\n",
      "  Trial 1/12 with params: {'lr_backbone': 0.0001, 'lr_head': 0.005, 'weight_decay': 0.01}\n"
     ]
    },
    {
     "name": "stderr",
     "output_type": "stream",
     "text": [
      "100%|██████████| 9.83M/9.83M [00:01<00:00, 9.58MB/s]\n",
      "                                                                                                    \r"
     ]
    },
    {
     "name": "stdout",
     "output_type": "stream",
     "text": [
      "    Epoch 1/15 - Train Loss: 1.4102, Acc: 61.41% | Val Loss: 0.5872, Acc: 82.07%\n"
     ]
    },
    {
     "name": "stderr",
     "output_type": "stream",
     "text": [
      "                                                                                                    \r"
     ]
    },
    {
     "name": "stdout",
     "output_type": "stream",
     "text": [
      "    Epoch 2/15 - Train Loss: 0.4440, Acc: 86.99% | Val Loss: 0.5376, Acc: 82.20%\n"
     ]
    },
    {
     "name": "stderr",
     "output_type": "stream",
     "text": [
      "                                                                                                    \r"
     ]
    },
    {
     "name": "stdout",
     "output_type": "stream",
     "text": [
      "    Epoch 3/15 - Train Loss: 0.2838, Acc: 91.85% | Val Loss: 0.5247, Acc: 82.61%\n"
     ]
    },
    {
     "name": "stderr",
     "output_type": "stream",
     "text": [
      "                                                                                                    \r"
     ]
    },
    {
     "name": "stdout",
     "output_type": "stream",
     "text": [
      "    Epoch 4/15 - Train Loss: 0.2141, Acc: 94.09% | Val Loss: 0.5469, Acc: 81.25%\n"
     ]
    },
    {
     "name": "stderr",
     "output_type": "stream",
     "text": [
      "                                                                                                    \r"
     ]
    },
    {
     "name": "stdout",
     "output_type": "stream",
     "text": [
      "    Epoch 5/15 - Train Loss: 0.1573, Acc: 95.86% | Val Loss: 0.5996, Acc: 82.61%\n"
     ]
    },
    {
     "name": "stderr",
     "output_type": "stream",
     "text": [
      "                                                                                                    \r"
     ]
    },
    {
     "name": "stdout",
     "output_type": "stream",
     "text": [
      "    Epoch 6/15 - Train Loss: 0.1431, Acc: 95.99% | Val Loss: 0.6199, Acc: 81.79%\n"
     ]
    },
    {
     "name": "stderr",
     "output_type": "stream",
     "text": [
      "                                                                                                    \r"
     ]
    },
    {
     "name": "stdout",
     "output_type": "stream",
     "text": [
      "    Epoch 7/15 - Train Loss: 0.1143, Acc: 96.67% | Val Loss: 0.6141, Acc: 81.66%\n"
     ]
    },
    {
     "name": "stderr",
     "output_type": "stream",
     "text": [
      "                                                                                                    \r"
     ]
    },
    {
     "name": "stdout",
     "output_type": "stream",
     "text": [
      "    Epoch 8/15 - Train Loss: 0.0854, Acc: 98.13% | Val Loss: 0.6495, Acc: 81.25%\n"
     ]
    },
    {
     "name": "stderr",
     "output_type": "stream",
     "text": [
      "                                                                                                    \r"
     ]
    },
    {
     "name": "stdout",
     "output_type": "stream",
     "text": [
      "    Epoch 9/15 - Train Loss: 0.0806, Acc: 97.72% | Val Loss: 0.6544, Acc: 82.07%\n"
     ]
    },
    {
     "name": "stderr",
     "output_type": "stream",
     "text": [
      "                                                                                                    \r"
     ]
    },
    {
     "name": "stdout",
     "output_type": "stream",
     "text": [
      "    Epoch 10/15 - Train Loss: 0.0770, Acc: 97.83% | Val Loss: 0.6882, Acc: 79.76%\n"
     ]
    },
    {
     "name": "stderr",
     "output_type": "stream",
     "text": [
      "                                                                                                    \r"
     ]
    },
    {
     "name": "stdout",
     "output_type": "stream",
     "text": [
      "    Epoch 11/15 - Train Loss: 0.0606, Acc: 98.44% | Val Loss: 0.6850, Acc: 80.30%\n"
     ]
    },
    {
     "name": "stderr",
     "output_type": "stream",
     "text": [
      "                                                                                                    \r"
     ]
    },
    {
     "name": "stdout",
     "output_type": "stream",
     "text": [
      "    Epoch 12/15 - Train Loss: 0.0547, Acc: 98.57% | Val Loss: 0.6769, Acc: 81.39%\n"
     ]
    },
    {
     "name": "stderr",
     "output_type": "stream",
     "text": [
      "                                                                                                    \r"
     ]
    },
    {
     "name": "stdout",
     "output_type": "stream",
     "text": [
      "    Epoch 13/15 - Train Loss: 0.0551, Acc: 98.64% | Val Loss: 0.7365, Acc: 80.71%\n"
     ]
    },
    {
     "name": "stderr",
     "output_type": "stream",
     "text": [
      "                                                                                                    \r"
     ]
    },
    {
     "name": "stdout",
     "output_type": "stream",
     "text": [
      "    Epoch 14/15 - Train Loss: 0.0472, Acc: 98.57% | Val Loss: 0.7069, Acc: 81.39%\n"
     ]
    },
    {
     "name": "stderr",
     "output_type": "stream",
     "text": [
      "                                                                                                    \r"
     ]
    },
    {
     "name": "stdout",
     "output_type": "stream",
     "text": [
      "    Epoch 15/15 - Train Loss: 0.0425, Acc: 98.88% | Val Loss: 0.6958, Acc: 81.66%\n",
      "    New best HPO params for mobilenet_mid_aug: {'lr_backbone': 0.0001, 'lr_head': 0.005, 'weight_decay': 0.01} with Val Acc: 81.66%\n",
      "  Trial 2/12 with params: {'lr_backbone': 0.0001, 'lr_head': 0.005, 'weight_decay': 0.001}\n"
     ]
    },
    {
     "name": "stderr",
     "output_type": "stream",
     "text": [
      "                                                                                                    \r"
     ]
    },
    {
     "name": "stdout",
     "output_type": "stream",
     "text": [
      "    Epoch 1/15 - Train Loss: 1.3922, Acc: 62.87% | Val Loss: 0.5923, Acc: 81.52%\n"
     ]
    },
    {
     "name": "stderr",
     "output_type": "stream",
     "text": [
      "                                                                                                    \r"
     ]
    },
    {
     "name": "stdout",
     "output_type": "stream",
     "text": [
      "    Epoch 2/15 - Train Loss: 0.4485, Acc: 86.96% | Val Loss: 0.5810, Acc: 82.20%\n"
     ]
    },
    {
     "name": "stderr",
     "output_type": "stream",
     "text": [
      "                                                                                                    \r"
     ]
    },
    {
     "name": "stdout",
     "output_type": "stream",
     "text": [
      "    Epoch 3/15 - Train Loss: 0.2831, Acc: 91.58% | Val Loss: 0.5515, Acc: 81.52%\n"
     ]
    },
    {
     "name": "stderr",
     "output_type": "stream",
     "text": [
      "                                                                                                    \r"
     ]
    },
    {
     "name": "stdout",
     "output_type": "stream",
     "text": [
      "    Epoch 4/15 - Train Loss: 0.2054, Acc: 94.33% | Val Loss: 0.5561, Acc: 81.11%\n"
     ]
    },
    {
     "name": "stderr",
     "output_type": "stream",
     "text": [
      "                                                                                                    \r"
     ]
    },
    {
     "name": "stdout",
     "output_type": "stream",
     "text": [
      "    Epoch 5/15 - Train Loss: 0.1566, Acc: 95.89% | Val Loss: 0.5935, Acc: 81.11%\n"
     ]
    },
    {
     "name": "stderr",
     "output_type": "stream",
     "text": [
      "                                                                                                    \r"
     ]
    },
    {
     "name": "stdout",
     "output_type": "stream",
     "text": [
      "    Epoch 6/15 - Train Loss: 0.1254, Acc: 96.84% | Val Loss: 0.5775, Acc: 82.20%\n"
     ]
    },
    {
     "name": "stderr",
     "output_type": "stream",
     "text": [
      "                                                                                                    \r"
     ]
    },
    {
     "name": "stdout",
     "output_type": "stream",
     "text": [
      "    Epoch 7/15 - Train Loss: 0.1114, Acc: 96.77% | Val Loss: 0.6039, Acc: 81.79%\n"
     ]
    },
    {
     "name": "stderr",
     "output_type": "stream",
     "text": [
      "                                                                                                    \r"
     ]
    },
    {
     "name": "stdout",
     "output_type": "stream",
     "text": [
      "    Epoch 8/15 - Train Loss: 0.0837, Acc: 98.20% | Val Loss: 0.6403, Acc: 80.57%\n"
     ]
    },
    {
     "name": "stderr",
     "output_type": "stream",
     "text": [
      "                                                                                                    \r"
     ]
    },
    {
     "name": "stdout",
     "output_type": "stream",
     "text": [
      "    Epoch 9/15 - Train Loss: 0.0852, Acc: 97.55% | Val Loss: 0.7010, Acc: 80.03%\n"
     ]
    },
    {
     "name": "stderr",
     "output_type": "stream",
     "text": [
      "                                                                                                    \r"
     ]
    },
    {
     "name": "stdout",
     "output_type": "stream",
     "text": [
      "    Epoch 10/15 - Train Loss: 0.0778, Acc: 97.83% | Val Loss: 0.6947, Acc: 79.21%\n"
     ]
    },
    {
     "name": "stderr",
     "output_type": "stream",
     "text": [
      "                                                                                                    \r"
     ]
    },
    {
     "name": "stdout",
     "output_type": "stream",
     "text": [
      "    Epoch 11/15 - Train Loss: 0.0711, Acc: 97.83% | Val Loss: 0.7157, Acc: 79.89%\n"
     ]
    },
    {
     "name": "stderr",
     "output_type": "stream",
     "text": [
      "                                                                                                    \r"
     ]
    },
    {
     "name": "stdout",
     "output_type": "stream",
     "text": [
      "    Epoch 12/15 - Train Loss: 0.0586, Acc: 98.30% | Val Loss: 0.7317, Acc: 80.16%\n"
     ]
    },
    {
     "name": "stderr",
     "output_type": "stream",
     "text": [
      "                                                                                                    \r"
     ]
    },
    {
     "name": "stdout",
     "output_type": "stream",
     "text": [
      "    Epoch 13/15 - Train Loss: 0.0585, Acc: 98.30% | Val Loss: 0.7126, Acc: 79.89%\n"
     ]
    },
    {
     "name": "stderr",
     "output_type": "stream",
     "text": [
      "                                                                                                    \r"
     ]
    },
    {
     "name": "stdout",
     "output_type": "stream",
     "text": [
      "    Epoch 14/15 - Train Loss: 0.0490, Acc: 98.57% | Val Loss: 0.7563, Acc: 79.08%\n"
     ]
    },
    {
     "name": "stderr",
     "output_type": "stream",
     "text": [
      "                                                                                                    \r"
     ]
    },
    {
     "name": "stdout",
     "output_type": "stream",
     "text": [
      "    Epoch 15/15 - Train Loss: 0.0437, Acc: 98.68% | Val Loss: 0.7116, Acc: 80.71%\n",
      "  Trial 3/12 with params: {'lr_backbone': 0.0001, 'lr_head': 0.005, 'weight_decay': 0}\n"
     ]
    },
    {
     "name": "stderr",
     "output_type": "stream",
     "text": [
      "                                                                                                    \r"
     ]
    },
    {
     "name": "stdout",
     "output_type": "stream",
     "text": [
      "    Epoch 1/15 - Train Loss: 1.4041, Acc: 62.40% | Val Loss: 0.5621, Acc: 82.61%\n"
     ]
    },
    {
     "name": "stderr",
     "output_type": "stream",
     "text": [
      "                                                                                                    \r"
     ]
    },
    {
     "name": "stdout",
     "output_type": "stream",
     "text": [
      "    Epoch 2/15 - Train Loss: 0.4391, Acc: 86.35% | Val Loss: 0.5074, Acc: 83.42%\n"
     ]
    },
    {
     "name": "stderr",
     "output_type": "stream",
     "text": [
      "                                                                                                    \r"
     ]
    },
    {
     "name": "stdout",
     "output_type": "stream",
     "text": [
      "    Epoch 3/15 - Train Loss: 0.2800, Acc: 91.95% | Val Loss: 0.5415, Acc: 81.25%\n"
     ]
    },
    {
     "name": "stderr",
     "output_type": "stream",
     "text": [
      "                                                                                                    \r"
     ]
    },
    {
     "name": "stdout",
     "output_type": "stream",
     "text": [
      "    Epoch 4/15 - Train Loss: 0.2105, Acc: 94.36% | Val Loss: 0.5582, Acc: 82.07%\n"
     ]
    },
    {
     "name": "stderr",
     "output_type": "stream",
     "text": [
      "                                                                                                    \r"
     ]
    },
    {
     "name": "stdout",
     "output_type": "stream",
     "text": [
      "    Epoch 5/15 - Train Loss: 0.1617, Acc: 95.28% | Val Loss: 0.6129, Acc: 81.39%\n"
     ]
    },
    {
     "name": "stderr",
     "output_type": "stream",
     "text": [
      "                                                                                                    \r"
     ]
    },
    {
     "name": "stdout",
     "output_type": "stream",
     "text": [
      "    Epoch 6/15 - Train Loss: 0.1320, Acc: 96.23% | Val Loss: 0.5951, Acc: 80.84%\n"
     ]
    },
    {
     "name": "stderr",
     "output_type": "stream",
     "text": [
      "                                                                                                    \r"
     ]
    },
    {
     "name": "stdout",
     "output_type": "stream",
     "text": [
      "    Epoch 7/15 - Train Loss: 0.1133, Acc: 96.84% | Val Loss: 0.6185, Acc: 81.39%\n"
     ]
    },
    {
     "name": "stderr",
     "output_type": "stream",
     "text": [
      "                                                                                                    \r"
     ]
    },
    {
     "name": "stdout",
     "output_type": "stream",
     "text": [
      "    Epoch 8/15 - Train Loss: 0.0939, Acc: 97.59% | Val Loss: 0.6558, Acc: 80.98%\n"
     ]
    },
    {
     "name": "stderr",
     "output_type": "stream",
     "text": [
      "                                                                                                    \r"
     ]
    },
    {
     "name": "stdout",
     "output_type": "stream",
     "text": [
      "    Epoch 9/15 - Train Loss: 0.0792, Acc: 97.66% | Val Loss: 0.6458, Acc: 81.11%\n"
     ]
    },
    {
     "name": "stderr",
     "output_type": "stream",
     "text": [
      "                                                                                                    \r"
     ]
    },
    {
     "name": "stdout",
     "output_type": "stream",
     "text": [
      "    Epoch 10/15 - Train Loss: 0.0827, Acc: 97.66% | Val Loss: 0.6781, Acc: 79.48%\n"
     ]
    },
    {
     "name": "stderr",
     "output_type": "stream",
     "text": [
      "                                                                                                    \r"
     ]
    },
    {
     "name": "stdout",
     "output_type": "stream",
     "text": [
      "    Epoch 11/15 - Train Loss: 0.0681, Acc: 98.13% | Val Loss: 0.6943, Acc: 80.71%\n"
     ]
    },
    {
     "name": "stderr",
     "output_type": "stream",
     "text": [
      "                                                                                                    \r"
     ]
    },
    {
     "name": "stdout",
     "output_type": "stream",
     "text": [
      "    Epoch 12/15 - Train Loss: 0.0666, Acc: 98.10% | Val Loss: 0.7020, Acc: 79.89%\n"
     ]
    },
    {
     "name": "stderr",
     "output_type": "stream",
     "text": [
      "                                                                                                    \r"
     ]
    },
    {
     "name": "stdout",
     "output_type": "stream",
     "text": [
      "    Epoch 13/15 - Train Loss: 0.0510, Acc: 98.68% | Val Loss: 0.6849, Acc: 81.25%\n"
     ]
    },
    {
     "name": "stderr",
     "output_type": "stream",
     "text": [
      "                                                                                                    \r"
     ]
    },
    {
     "name": "stdout",
     "output_type": "stream",
     "text": [
      "    Epoch 14/15 - Train Loss: 0.0529, Acc: 98.61% | Val Loss: 0.6816, Acc: 80.57%\n"
     ]
    },
    {
     "name": "stderr",
     "output_type": "stream",
     "text": [
      "                                                                                                    \r"
     ]
    },
    {
     "name": "stdout",
     "output_type": "stream",
     "text": [
      "    Epoch 15/15 - Train Loss: 0.0460, Acc: 98.88% | Val Loss: 0.7261, Acc: 81.25%\n",
      "  Trial 4/12 with params: {'lr_backbone': 0.0001, 'lr_head': 0.001, 'weight_decay': 0.01}\n"
     ]
    },
    {
     "name": "stderr",
     "output_type": "stream",
     "text": [
      "                                                                                                    \r"
     ]
    },
    {
     "name": "stdout",
     "output_type": "stream",
     "text": [
      "    Epoch 1/15 - Train Loss: 2.4604, Acc: 45.69% | Val Loss: 1.1110, Acc: 72.01%\n"
     ]
    },
    {
     "name": "stderr",
     "output_type": "stream",
     "text": [
      "                                                                                                    \r"
     ]
    },
    {
     "name": "stdout",
     "output_type": "stream",
     "text": [
      "    Epoch 2/15 - Train Loss: 1.0129, Acc: 79.11% | Val Loss: 0.7056, Acc: 82.34%\n"
     ]
    },
    {
     "name": "stderr",
     "output_type": "stream",
     "text": [
      "                                                                                                    \r"
     ]
    },
    {
     "name": "stdout",
     "output_type": "stream",
     "text": [
      "    Epoch 3/15 - Train Loss: 0.6293, Acc: 85.02% | Val Loss: 0.6094, Acc: 82.61%\n"
     ]
    },
    {
     "name": "stderr",
     "output_type": "stream",
     "text": [
      "                                                                                                    \r"
     ]
    },
    {
     "name": "stdout",
     "output_type": "stream",
     "text": [
      "    Epoch 4/15 - Train Loss: 0.4651, Acc: 88.21% | Val Loss: 0.5720, Acc: 83.56%\n"
     ]
    },
    {
     "name": "stderr",
     "output_type": "stream",
     "text": [
      "                                                                                                    \r"
     ]
    },
    {
     "name": "stdout",
     "output_type": "stream",
     "text": [
      "    Epoch 5/15 - Train Loss: 0.3564, Acc: 91.34% | Val Loss: 0.5539, Acc: 83.42%\n"
     ]
    },
    {
     "name": "stderr",
     "output_type": "stream",
     "text": [
      "                                                                                                    \r"
     ]
    },
    {
     "name": "stdout",
     "output_type": "stream",
     "text": [
      "    Epoch 6/15 - Train Loss: 0.2958, Acc: 92.22% | Val Loss: 0.5557, Acc: 82.61%\n"
     ]
    },
    {
     "name": "stderr",
     "output_type": "stream",
     "text": [
      "                                                                                                    \r"
     ]
    },
    {
     "name": "stdout",
     "output_type": "stream",
     "text": [
      "    Epoch 7/15 - Train Loss: 0.2553, Acc: 93.82% | Val Loss: 0.5626, Acc: 82.61%\n"
     ]
    },
    {
     "name": "stderr",
     "output_type": "stream",
     "text": [
      "                                                                                                    \r"
     ]
    },
    {
     "name": "stdout",
     "output_type": "stream",
     "text": [
      "    Epoch 8/15 - Train Loss: 0.2189, Acc: 94.50% | Val Loss: 0.5441, Acc: 83.70%\n"
     ]
    },
    {
     "name": "stderr",
     "output_type": "stream",
     "text": [
      "                                                                                                    \r"
     ]
    },
    {
     "name": "stdout",
     "output_type": "stream",
     "text": [
      "    Epoch 9/15 - Train Loss: 0.1804, Acc: 96.09% | Val Loss: 0.5569, Acc: 82.88%\n"
     ]
    },
    {
     "name": "stderr",
     "output_type": "stream",
     "text": [
      "                                                                                                    \r"
     ]
    },
    {
     "name": "stdout",
     "output_type": "stream",
     "text": [
      "    Epoch 10/15 - Train Loss: 0.1608, Acc: 96.64% | Val Loss: 0.5445, Acc: 83.15%\n"
     ]
    },
    {
     "name": "stderr",
     "output_type": "stream",
     "text": [
      "                                                                                                    \r"
     ]
    },
    {
     "name": "stdout",
     "output_type": "stream",
     "text": [
      "    Epoch 11/15 - Train Loss: 0.1415, Acc: 97.04% | Val Loss: 0.5541, Acc: 81.52%\n"
     ]
    },
    {
     "name": "stderr",
     "output_type": "stream",
     "text": [
      "                                                                                                    \r"
     ]
    },
    {
     "name": "stdout",
     "output_type": "stream",
     "text": [
      "    Epoch 12/15 - Train Loss: 0.1133, Acc: 97.83% | Val Loss: 0.5492, Acc: 83.02%\n"
     ]
    },
    {
     "name": "stderr",
     "output_type": "stream",
     "text": [
      "                                                                                                    \r"
     ]
    },
    {
     "name": "stdout",
     "output_type": "stream",
     "text": [
      "    Epoch 13/15 - Train Loss: 0.1008, Acc: 98.06% | Val Loss: 0.5692, Acc: 82.34%\n"
     ]
    },
    {
     "name": "stderr",
     "output_type": "stream",
     "text": [
      "                                                                                                    \r"
     ]
    },
    {
     "name": "stdout",
     "output_type": "stream",
     "text": [
      "    Epoch 14/15 - Train Loss: 0.0933, Acc: 98.27% | Val Loss: 0.5630, Acc: 82.74%\n"
     ]
    },
    {
     "name": "stderr",
     "output_type": "stream",
     "text": [
      "                                                                                                    \r"
     ]
    },
    {
     "name": "stdout",
     "output_type": "stream",
     "text": [
      "    Epoch 15/15 - Train Loss: 0.0920, Acc: 98.13% | Val Loss: 0.5893, Acc: 83.02%\n",
      "    New best HPO params for mobilenet_mid_aug: {'lr_backbone': 0.0001, 'lr_head': 0.001, 'weight_decay': 0.01} with Val Acc: 83.02%\n",
      "  Trial 5/12 with params: {'lr_backbone': 0.0001, 'lr_head': 0.001, 'weight_decay': 0.001}\n"
     ]
    },
    {
     "name": "stderr",
     "output_type": "stream",
     "text": [
      "                                                                                                    \r"
     ]
    },
    {
     "name": "stdout",
     "output_type": "stream",
     "text": [
      "    Epoch 1/15 - Train Loss: 2.4486, Acc: 45.18% | Val Loss: 1.1089, Acc: 71.88%\n"
     ]
    },
    {
     "name": "stderr",
     "output_type": "stream",
     "text": [
      "                                                                                                    \r"
     ]
    },
    {
     "name": "stdout",
     "output_type": "stream",
     "text": [
      "    Epoch 2/15 - Train Loss: 1.0283, Acc: 77.79% | Val Loss: 0.7025, Acc: 81.11%\n"
     ]
    },
    {
     "name": "stderr",
     "output_type": "stream",
     "text": [
      "                                                                                                    \r"
     ]
    },
    {
     "name": "stdout",
     "output_type": "stream",
     "text": [
      "    Epoch 3/15 - Train Loss: 0.6325, Acc: 84.65% | Val Loss: 0.5975, Acc: 82.74%\n"
     ]
    },
    {
     "name": "stderr",
     "output_type": "stream",
     "text": [
      "                                                                                                    \r"
     ]
    },
    {
     "name": "stdout",
     "output_type": "stream",
     "text": [
      "    Epoch 4/15 - Train Loss: 0.4567, Acc: 88.21% | Val Loss: 0.5670, Acc: 82.74%\n"
     ]
    },
    {
     "name": "stderr",
     "output_type": "stream",
     "text": [
      "                                                                                                    \r"
     ]
    },
    {
     "name": "stdout",
     "output_type": "stream",
     "text": [
      "    Epoch 5/15 - Train Loss: 0.3793, Acc: 90.25% | Val Loss: 0.5544, Acc: 83.15%\n"
     ]
    },
    {
     "name": "stderr",
     "output_type": "stream",
     "text": [
      "                                                                                                    \r"
     ]
    },
    {
     "name": "stdout",
     "output_type": "stream",
     "text": [
      "    Epoch 6/15 - Train Loss: 0.3154, Acc: 91.98% | Val Loss: 0.5524, Acc: 82.88%\n"
     ]
    },
    {
     "name": "stderr",
     "output_type": "stream",
     "text": [
      "                                                                                                    \r"
     ]
    },
    {
     "name": "stdout",
     "output_type": "stream",
     "text": [
      "    Epoch 7/15 - Train Loss: 0.2415, Acc: 94.33% | Val Loss: 0.5372, Acc: 82.74%\n"
     ]
    },
    {
     "name": "stderr",
     "output_type": "stream",
     "text": [
      "                                                                                                    \r"
     ]
    },
    {
     "name": "stdout",
     "output_type": "stream",
     "text": [
      "    Epoch 8/15 - Train Loss: 0.2069, Acc: 95.35% | Val Loss: 0.5523, Acc: 83.42%\n"
     ]
    },
    {
     "name": "stderr",
     "output_type": "stream",
     "text": [
      "                                                                                                    \r"
     ]
    },
    {
     "name": "stdout",
     "output_type": "stream",
     "text": [
      "    Epoch 9/15 - Train Loss: 0.1897, Acc: 95.52% | Val Loss: 0.5525, Acc: 83.29%\n"
     ]
    },
    {
     "name": "stderr",
     "output_type": "stream",
     "text": [
      "                                                                                                    \r"
     ]
    },
    {
     "name": "stdout",
     "output_type": "stream",
     "text": [
      "    Epoch 10/15 - Train Loss: 0.1607, Acc: 96.40% | Val Loss: 0.5561, Acc: 82.74%\n"
     ]
    },
    {
     "name": "stderr",
     "output_type": "stream",
     "text": [
      "                                                                                                    \r"
     ]
    },
    {
     "name": "stdout",
     "output_type": "stream",
     "text": [
      "    Epoch 11/15 - Train Loss: 0.1489, Acc: 96.67% | Val Loss: 0.5537, Acc: 83.56%\n"
     ]
    },
    {
     "name": "stderr",
     "output_type": "stream",
     "text": [
      "                                                                                                    \r"
     ]
    },
    {
     "name": "stdout",
     "output_type": "stream",
     "text": [
      "    Epoch 12/15 - Train Loss: 0.1233, Acc: 97.25% | Val Loss: 0.5607, Acc: 82.74%\n"
     ]
    },
    {
     "name": "stderr",
     "output_type": "stream",
     "text": [
      "                                                                                                    \r"
     ]
    },
    {
     "name": "stdout",
     "output_type": "stream",
     "text": [
      "    Epoch 13/15 - Train Loss: 0.1028, Acc: 98.06% | Val Loss: 0.5525, Acc: 83.29%\n"
     ]
    },
    {
     "name": "stderr",
     "output_type": "stream",
     "text": [
      "                                                                                                    \r"
     ]
    },
    {
     "name": "stdout",
     "output_type": "stream",
     "text": [
      "    Epoch 14/15 - Train Loss: 0.0915, Acc: 98.47% | Val Loss: 0.5550, Acc: 82.07%\n"
     ]
    },
    {
     "name": "stderr",
     "output_type": "stream",
     "text": [
      "                                                                                                    \r"
     ]
    },
    {
     "name": "stdout",
     "output_type": "stream",
     "text": [
      "    Epoch 15/15 - Train Loss: 0.0897, Acc: 98.47% | Val Loss: 0.5556, Acc: 83.02%\n",
      "  Trial 6/12 with params: {'lr_backbone': 0.0001, 'lr_head': 0.001, 'weight_decay': 0}\n"
     ]
    },
    {
     "name": "stderr",
     "output_type": "stream",
     "text": [
      "                                                                                                    \r"
     ]
    },
    {
     "name": "stdout",
     "output_type": "stream",
     "text": [
      "    Epoch 1/15 - Train Loss: 2.5098, Acc: 43.89% | Val Loss: 1.1194, Acc: 73.51%\n"
     ]
    },
    {
     "name": "stderr",
     "output_type": "stream",
     "text": [
      "                                                                                                    \r"
     ]
    },
    {
     "name": "stdout",
     "output_type": "stream",
     "text": [
      "    Epoch 2/15 - Train Loss: 1.0408, Acc: 77.68% | Val Loss: 0.7114, Acc: 82.20%\n"
     ]
    },
    {
     "name": "stderr",
     "output_type": "stream",
     "text": [
      "                                                                                                    \r"
     ]
    },
    {
     "name": "stdout",
     "output_type": "stream",
     "text": [
      "    Epoch 3/15 - Train Loss: 0.6298, Acc: 84.48% | Val Loss: 0.6119, Acc: 82.47%\n"
     ]
    },
    {
     "name": "stderr",
     "output_type": "stream",
     "text": [
      "                                                                                                    \r"
     ]
    },
    {
     "name": "stdout",
     "output_type": "stream",
     "text": [
      "    Epoch 4/15 - Train Loss: 0.4603, Acc: 88.72% | Val Loss: 0.5563, Acc: 84.92%\n"
     ]
    },
    {
     "name": "stderr",
     "output_type": "stream",
     "text": [
      "                                                                                                    \r"
     ]
    },
    {
     "name": "stdout",
     "output_type": "stream",
     "text": [
      "    Epoch 5/15 - Train Loss: 0.3662, Acc: 90.96% | Val Loss: 0.5483, Acc: 83.15%\n"
     ]
    },
    {
     "name": "stderr",
     "output_type": "stream",
     "text": [
      "                                                                                                    \r"
     ]
    },
    {
     "name": "stdout",
     "output_type": "stream",
     "text": [
      "    Epoch 6/15 - Train Loss: 0.3011, Acc: 91.92% | Val Loss: 0.5417, Acc: 83.56%\n"
     ]
    },
    {
     "name": "stderr",
     "output_type": "stream",
     "text": [
      "                                                                                                    \r"
     ]
    },
    {
     "name": "stdout",
     "output_type": "stream",
     "text": [
      "    Epoch 7/15 - Train Loss: 0.2522, Acc: 93.48% | Val Loss: 0.5421, Acc: 82.47%\n"
     ]
    },
    {
     "name": "stderr",
     "output_type": "stream",
     "text": [
      "                                                                                                    \r"
     ]
    },
    {
     "name": "stdout",
     "output_type": "stream",
     "text": [
      "    Epoch 8/15 - Train Loss: 0.2106, Acc: 95.62% | Val Loss: 0.5500, Acc: 82.61%\n"
     ]
    },
    {
     "name": "stderr",
     "output_type": "stream",
     "text": [
      "                                                                                                    \r"
     ]
    },
    {
     "name": "stdout",
     "output_type": "stream",
     "text": [
      "    Epoch 9/15 - Train Loss: 0.1827, Acc: 96.06% | Val Loss: 0.5425, Acc: 83.56%\n"
     ]
    },
    {
     "name": "stderr",
     "output_type": "stream",
     "text": [
      "                                                                                                    \r"
     ]
    },
    {
     "name": "stdout",
     "output_type": "stream",
     "text": [
      "    Epoch 10/15 - Train Loss: 0.1511, Acc: 97.25% | Val Loss: 0.5427, Acc: 82.88%\n"
     ]
    },
    {
     "name": "stderr",
     "output_type": "stream",
     "text": [
      "                                                                                                    \r"
     ]
    },
    {
     "name": "stdout",
     "output_type": "stream",
     "text": [
      "    Epoch 11/15 - Train Loss: 0.1309, Acc: 97.52% | Val Loss: 0.5409, Acc: 82.74%\n"
     ]
    },
    {
     "name": "stderr",
     "output_type": "stream",
     "text": [
      "                                                                                                    \r"
     ]
    },
    {
     "name": "stdout",
     "output_type": "stream",
     "text": [
      "    Epoch 12/15 - Train Loss: 0.1227, Acc: 97.42% | Val Loss: 0.5550, Acc: 82.34%\n"
     ]
    },
    {
     "name": "stderr",
     "output_type": "stream",
     "text": [
      "                                                                                                    \r"
     ]
    },
    {
     "name": "stdout",
     "output_type": "stream",
     "text": [
      "    Epoch 13/15 - Train Loss: 0.0978, Acc: 98.61% | Val Loss: 0.5445, Acc: 82.47%\n"
     ]
    },
    {
     "name": "stderr",
     "output_type": "stream",
     "text": [
      "                                                                                                    \r"
     ]
    },
    {
     "name": "stdout",
     "output_type": "stream",
     "text": [
      "    Epoch 14/15 - Train Loss: 0.0945, Acc: 98.03% | Val Loss: 0.5405, Acc: 83.29%\n"
     ]
    },
    {
     "name": "stderr",
     "output_type": "stream",
     "text": [
      "                                                                                                    \r"
     ]
    },
    {
     "name": "stdout",
     "output_type": "stream",
     "text": [
      "    Epoch 15/15 - Train Loss: 0.0894, Acc: 98.27% | Val Loss: 0.5417, Acc: 82.88%\n",
      "  Trial 7/12 with params: {'lr_backbone': 5e-05, 'lr_head': 0.005, 'weight_decay': 0.01}\n"
     ]
    },
    {
     "name": "stderr",
     "output_type": "stream",
     "text": [
      "                                                                                                    \r"
     ]
    },
    {
     "name": "stdout",
     "output_type": "stream",
     "text": [
      "    Epoch 1/15 - Train Loss: 1.4497, Acc: 60.94% | Val Loss: 0.6068, Acc: 80.03%\n"
     ]
    },
    {
     "name": "stderr",
     "output_type": "stream",
     "text": [
      "                                                                                                    \r"
     ]
    },
    {
     "name": "stdout",
     "output_type": "stream",
     "text": [
      "    Epoch 2/15 - Train Loss: 0.4884, Acc: 85.60% | Val Loss: 0.5415, Acc: 82.20%\n"
     ]
    },
    {
     "name": "stderr",
     "output_type": "stream",
     "text": [
      "                                                                                                    \r"
     ]
    },
    {
     "name": "stdout",
     "output_type": "stream",
     "text": [
      "    Epoch 3/15 - Train Loss: 0.3274, Acc: 90.46% | Val Loss: 0.5303, Acc: 81.66%\n"
     ]
    },
    {
     "name": "stderr",
     "output_type": "stream",
     "text": [
      "                                                                                                    \r"
     ]
    },
    {
     "name": "stdout",
     "output_type": "stream",
     "text": [
      "    Epoch 4/15 - Train Loss: 0.2388, Acc: 93.95% | Val Loss: 0.5592, Acc: 81.52%\n"
     ]
    },
    {
     "name": "stderr",
     "output_type": "stream",
     "text": [
      "                                                                                                    \r"
     ]
    },
    {
     "name": "stdout",
     "output_type": "stream",
     "text": [
      "    Epoch 5/15 - Train Loss: 0.1888, Acc: 94.36% | Val Loss: 0.5869, Acc: 81.25%\n"
     ]
    },
    {
     "name": "stderr",
     "output_type": "stream",
     "text": [
      "                                                                                                    \r"
     ]
    },
    {
     "name": "stdout",
     "output_type": "stream",
     "text": [
      "    Epoch 6/15 - Train Loss: 0.1496, Acc: 96.09% | Val Loss: 0.5813, Acc: 81.11%\n"
     ]
    },
    {
     "name": "stderr",
     "output_type": "stream",
     "text": [
      "                                                                                                    \r"
     ]
    },
    {
     "name": "stdout",
     "output_type": "stream",
     "text": [
      "    Epoch 7/15 - Train Loss: 0.1363, Acc: 96.43% | Val Loss: 0.5983, Acc: 80.57%\n"
     ]
    },
    {
     "name": "stderr",
     "output_type": "stream",
     "text": [
      "                                                                                                    \r"
     ]
    },
    {
     "name": "stdout",
     "output_type": "stream",
     "text": [
      "    Epoch 8/15 - Train Loss: 0.1120, Acc: 97.32% | Val Loss: 0.6185, Acc: 80.84%\n"
     ]
    },
    {
     "name": "stderr",
     "output_type": "stream",
     "text": [
      "                                                                                                    \r"
     ]
    },
    {
     "name": "stdout",
     "output_type": "stream",
     "text": [
      "    Epoch 9/15 - Train Loss: 0.1013, Acc: 97.55% | Val Loss: 0.6291, Acc: 80.84%\n"
     ]
    },
    {
     "name": "stderr",
     "output_type": "stream",
     "text": [
      "                                                                                                    \r"
     ]
    },
    {
     "name": "stdout",
     "output_type": "stream",
     "text": [
      "    Epoch 10/15 - Train Loss: 0.0860, Acc: 97.86% | Val Loss: 0.6425, Acc: 80.71%\n"
     ]
    },
    {
     "name": "stderr",
     "output_type": "stream",
     "text": [
      "                                                                                                    \r"
     ]
    },
    {
     "name": "stdout",
     "output_type": "stream",
     "text": [
      "    Epoch 11/15 - Train Loss: 0.0908, Acc: 97.45% | Val Loss: 0.6488, Acc: 81.52%\n"
     ]
    },
    {
     "name": "stderr",
     "output_type": "stream",
     "text": [
      "                                                                                                    \r"
     ]
    },
    {
     "name": "stdout",
     "output_type": "stream",
     "text": [
      "    Epoch 12/15 - Train Loss: 0.0746, Acc: 98.27% | Val Loss: 0.6530, Acc: 80.84%\n"
     ]
    },
    {
     "name": "stderr",
     "output_type": "stream",
     "text": [
      "                                                                                                    \r"
     ]
    },
    {
     "name": "stdout",
     "output_type": "stream",
     "text": [
      "    Epoch 13/15 - Train Loss: 0.0737, Acc: 97.72% | Val Loss: 0.6840, Acc: 79.48%\n"
     ]
    },
    {
     "name": "stderr",
     "output_type": "stream",
     "text": [
      "                                                                                                    \r"
     ]
    },
    {
     "name": "stdout",
     "output_type": "stream",
     "text": [
      "    Epoch 14/15 - Train Loss: 0.0664, Acc: 98.34% | Val Loss: 0.6906, Acc: 80.43%\n"
     ]
    },
    {
     "name": "stderr",
     "output_type": "stream",
     "text": [
      "                                                                                                    \r"
     ]
    },
    {
     "name": "stdout",
     "output_type": "stream",
     "text": [
      "    Epoch 15/15 - Train Loss: 0.0560, Acc: 98.37% | Val Loss: 0.6996, Acc: 78.67%\n",
      "  Trial 8/12 with params: {'lr_backbone': 5e-05, 'lr_head': 0.005, 'weight_decay': 0.001}\n"
     ]
    },
    {
     "name": "stderr",
     "output_type": "stream",
     "text": [
      "                                                                                                    \r"
     ]
    },
    {
     "name": "stdout",
     "output_type": "stream",
     "text": [
      "    Epoch 1/15 - Train Loss: 1.4237, Acc: 62.70% | Val Loss: 0.5783, Acc: 81.25%\n"
     ]
    },
    {
     "name": "stderr",
     "output_type": "stream",
     "text": [
      "                                                                                                    \r"
     ]
    },
    {
     "name": "stdout",
     "output_type": "stream",
     "text": [
      "    Epoch 2/15 - Train Loss: 0.5007, Acc: 85.22% | Val Loss: 0.5343, Acc: 81.93%\n"
     ]
    },
    {
     "name": "stderr",
     "output_type": "stream",
     "text": [
      "                                                                                                    \r"
     ]
    },
    {
     "name": "stdout",
     "output_type": "stream",
     "text": [
      "    Epoch 3/15 - Train Loss: 0.3188, Acc: 91.27% | Val Loss: 0.5245, Acc: 81.93%\n"
     ]
    },
    {
     "name": "stderr",
     "output_type": "stream",
     "text": [
      "                                                                                                    \r"
     ]
    },
    {
     "name": "stdout",
     "output_type": "stream",
     "text": [
      "    Epoch 4/15 - Train Loss: 0.2423, Acc: 93.48% | Val Loss: 0.5539, Acc: 82.07%\n"
     ]
    },
    {
     "name": "stderr",
     "output_type": "stream",
     "text": [
      "                                                                                                    \r"
     ]
    },
    {
     "name": "stdout",
     "output_type": "stream",
     "text": [
      "    Epoch 5/15 - Train Loss: 0.1815, Acc: 95.28% | Val Loss: 0.6023, Acc: 80.43%\n"
     ]
    },
    {
     "name": "stderr",
     "output_type": "stream",
     "text": [
      "                                                                                                    \r"
     ]
    },
    {
     "name": "stdout",
     "output_type": "stream",
     "text": [
      "    Epoch 6/15 - Train Loss: 0.1627, Acc: 95.24% | Val Loss: 0.6373, Acc: 79.08%\n"
     ]
    },
    {
     "name": "stderr",
     "output_type": "stream",
     "text": [
      "                                                                                                    \r"
     ]
    },
    {
     "name": "stdout",
     "output_type": "stream",
     "text": [
      "    Epoch 7/15 - Train Loss: 0.1327, Acc: 96.54% | Val Loss: 0.6332, Acc: 79.76%\n"
     ]
    },
    {
     "name": "stderr",
     "output_type": "stream",
     "text": [
      "                                                                                                    \r"
     ]
    },
    {
     "name": "stdout",
     "output_type": "stream",
     "text": [
      "    Epoch 8/15 - Train Loss: 0.1137, Acc: 96.64% | Val Loss: 0.6368, Acc: 79.48%\n"
     ]
    },
    {
     "name": "stderr",
     "output_type": "stream",
     "text": [
      "                                                                                                    \r"
     ]
    },
    {
     "name": "stdout",
     "output_type": "stream",
     "text": [
      "    Epoch 9/15 - Train Loss: 0.1027, Acc: 97.28% | Val Loss: 0.6364, Acc: 80.43%\n"
     ]
    },
    {
     "name": "stderr",
     "output_type": "stream",
     "text": [
      "                                                                                                    \r"
     ]
    },
    {
     "name": "stdout",
     "output_type": "stream",
     "text": [
      "    Epoch 10/15 - Train Loss: 0.0942, Acc: 97.15% | Val Loss: 0.6367, Acc: 79.89%\n"
     ]
    },
    {
     "name": "stderr",
     "output_type": "stream",
     "text": [
      "                                                                                                    \r"
     ]
    },
    {
     "name": "stdout",
     "output_type": "stream",
     "text": [
      "    Epoch 11/15 - Train Loss: 0.0962, Acc: 97.08% | Val Loss: 0.6673, Acc: 80.16%\n"
     ]
    },
    {
     "name": "stderr",
     "output_type": "stream",
     "text": [
      "                                                                                                    \r"
     ]
    },
    {
     "name": "stdout",
     "output_type": "stream",
     "text": [
      "    Epoch 12/15 - Train Loss: 0.0879, Acc: 97.32% | Val Loss: 0.6719, Acc: 79.48%\n"
     ]
    },
    {
     "name": "stderr",
     "output_type": "stream",
     "text": [
      "                                                                                                    \r"
     ]
    },
    {
     "name": "stdout",
     "output_type": "stream",
     "text": [
      "    Epoch 13/15 - Train Loss: 0.0592, Acc: 98.68% | Val Loss: 0.6912, Acc: 78.26%\n"
     ]
    },
    {
     "name": "stderr",
     "output_type": "stream",
     "text": [
      "                                                                                                    \r"
     ]
    },
    {
     "name": "stdout",
     "output_type": "stream",
     "text": [
      "    Epoch 14/15 - Train Loss: 0.0512, Acc: 98.74% | Val Loss: 0.6815, Acc: 79.89%\n"
     ]
    },
    {
     "name": "stderr",
     "output_type": "stream",
     "text": [
      "                                                                                                    \r"
     ]
    },
    {
     "name": "stdout",
     "output_type": "stream",
     "text": [
      "    Epoch 15/15 - Train Loss: 0.0511, Acc: 98.85% | Val Loss: 0.7101, Acc: 80.03%\n",
      "  Trial 9/12 with params: {'lr_backbone': 5e-05, 'lr_head': 0.005, 'weight_decay': 0}\n"
     ]
    },
    {
     "name": "stderr",
     "output_type": "stream",
     "text": [
      "                                                                                                    \r"
     ]
    },
    {
     "name": "stdout",
     "output_type": "stream",
     "text": [
      "    Epoch 1/15 - Train Loss: 1.4506, Acc: 61.18% | Val Loss: 0.6316, Acc: 79.48%\n"
     ]
    },
    {
     "name": "stderr",
     "output_type": "stream",
     "text": [
      "                                                                                                    \r"
     ]
    },
    {
     "name": "stdout",
     "output_type": "stream",
     "text": [
      "    Epoch 2/15 - Train Loss: 0.4850, Acc: 86.11% | Val Loss: 0.5433, Acc: 83.42%\n"
     ]
    },
    {
     "name": "stderr",
     "output_type": "stream",
     "text": [
      "                                                                                                    \r"
     ]
    },
    {
     "name": "stdout",
     "output_type": "stream",
     "text": [
      "    Epoch 3/15 - Train Loss: 0.3227, Acc: 91.41% | Val Loss: 0.5321, Acc: 83.02%\n"
     ]
    },
    {
     "name": "stderr",
     "output_type": "stream",
     "text": [
      "                                                                                                    \r"
     ]
    },
    {
     "name": "stdout",
     "output_type": "stream",
     "text": [
      "    Epoch 4/15 - Train Loss: 0.2277, Acc: 94.23% | Val Loss: 0.5728, Acc: 82.07%\n"
     ]
    },
    {
     "name": "stderr",
     "output_type": "stream",
     "text": [
      "                                                                                                    \r"
     ]
    },
    {
     "name": "stdout",
     "output_type": "stream",
     "text": [
      "    Epoch 5/15 - Train Loss: 0.1916, Acc: 94.63% | Val Loss: 0.5850, Acc: 82.07%\n"
     ]
    },
    {
     "name": "stderr",
     "output_type": "stream",
     "text": [
      "                                                                                                    \r"
     ]
    },
    {
     "name": "stdout",
     "output_type": "stream",
     "text": [
      "    Epoch 6/15 - Train Loss: 0.1577, Acc: 96.23% | Val Loss: 0.6363, Acc: 80.03%\n"
     ]
    },
    {
     "name": "stderr",
     "output_type": "stream",
     "text": [
      "                                                                                                    \r"
     ]
    },
    {
     "name": "stdout",
     "output_type": "stream",
     "text": [
      "    Epoch 7/15 - Train Loss: 0.1337, Acc: 96.60% | Val Loss: 0.6543, Acc: 79.08%\n"
     ]
    },
    {
     "name": "stderr",
     "output_type": "stream",
     "text": [
      "                                                                                                    \r"
     ]
    },
    {
     "name": "stdout",
     "output_type": "stream",
     "text": [
      "    Epoch 8/15 - Train Loss: 0.1128, Acc: 96.88% | Val Loss: 0.6349, Acc: 80.30%\n"
     ]
    },
    {
     "name": "stderr",
     "output_type": "stream",
     "text": [
      "                                                                                                    \r"
     ]
    },
    {
     "name": "stdout",
     "output_type": "stream",
     "text": [
      "    Epoch 9/15 - Train Loss: 0.1052, Acc: 97.18% | Val Loss: 0.6651, Acc: 81.11%\n"
     ]
    },
    {
     "name": "stderr",
     "output_type": "stream",
     "text": [
      "                                                                                                    \r"
     ]
    },
    {
     "name": "stdout",
     "output_type": "stream",
     "text": [
      "    Epoch 10/15 - Train Loss: 0.0972, Acc: 97.04% | Val Loss: 0.6747, Acc: 81.11%\n"
     ]
    },
    {
     "name": "stderr",
     "output_type": "stream",
     "text": [
      "                                                                                                    \r"
     ]
    },
    {
     "name": "stdout",
     "output_type": "stream",
     "text": [
      "    Epoch 11/15 - Train Loss: 0.0708, Acc: 98.13% | Val Loss: 0.6886, Acc: 81.11%\n"
     ]
    },
    {
     "name": "stderr",
     "output_type": "stream",
     "text": [
      "                                                                                                    \r"
     ]
    },
    {
     "name": "stdout",
     "output_type": "stream",
     "text": [
      "    Epoch 12/15 - Train Loss: 0.0717, Acc: 98.34% | Val Loss: 0.6896, Acc: 80.84%\n"
     ]
    },
    {
     "name": "stderr",
     "output_type": "stream",
     "text": [
      "                                                                                                    \r"
     ]
    },
    {
     "name": "stdout",
     "output_type": "stream",
     "text": [
      "    Epoch 13/15 - Train Loss: 0.0673, Acc: 98.10% | Val Loss: 0.6895, Acc: 80.57%\n"
     ]
    },
    {
     "name": "stderr",
     "output_type": "stream",
     "text": [
      "                                                                                                    \r"
     ]
    },
    {
     "name": "stdout",
     "output_type": "stream",
     "text": [
      "    Epoch 14/15 - Train Loss: 0.0661, Acc: 98.17% | Val Loss: 0.7116, Acc: 80.98%\n"
     ]
    },
    {
     "name": "stderr",
     "output_type": "stream",
     "text": [
      "                                                                                                    \r"
     ]
    },
    {
     "name": "stdout",
     "output_type": "stream",
     "text": [
      "    Epoch 15/15 - Train Loss: 0.0660, Acc: 98.20% | Val Loss: 0.7213, Acc: 80.57%\n",
      "  Trial 10/12 with params: {'lr_backbone': 5e-05, 'lr_head': 0.001, 'weight_decay': 0.01}\n"
     ]
    },
    {
     "name": "stderr",
     "output_type": "stream",
     "text": [
      "                                                                                                    \r"
     ]
    },
    {
     "name": "stdout",
     "output_type": "stream",
     "text": [
      "    Epoch 1/15 - Train Loss: 2.5167, Acc: 44.43% | Val Loss: 1.1561, Acc: 73.78%\n"
     ]
    },
    {
     "name": "stderr",
     "output_type": "stream",
     "text": [
      "                                                                                                    \r"
     ]
    },
    {
     "name": "stdout",
     "output_type": "stream",
     "text": [
      "    Epoch 2/15 - Train Loss: 1.1584, Acc: 76.29% | Val Loss: 0.7332, Acc: 80.30%\n"
     ]
    },
    {
     "name": "stderr",
     "output_type": "stream",
     "text": [
      "                                                                                                    \r"
     ]
    },
    {
     "name": "stdout",
     "output_type": "stream",
     "text": [
      "    Epoch 3/15 - Train Loss: 0.7351, Acc: 83.70% | Val Loss: 0.6439, Acc: 82.34%\n"
     ]
    },
    {
     "name": "stderr",
     "output_type": "stream",
     "text": [
      "                                                                                                    \r"
     ]
    },
    {
     "name": "stdout",
     "output_type": "stream",
     "text": [
      "    Epoch 4/15 - Train Loss: 0.5472, Acc: 87.57% | Val Loss: 0.6109, Acc: 82.20%\n"
     ]
    },
    {
     "name": "stderr",
     "output_type": "stream",
     "text": [
      "                                                                                                    \r"
     ]
    },
    {
     "name": "stdout",
     "output_type": "stream",
     "text": [
      "    Epoch 5/15 - Train Loss: 0.4511, Acc: 89.23% | Val Loss: 0.5841, Acc: 82.47%\n"
     ]
    },
    {
     "name": "stderr",
     "output_type": "stream",
     "text": [
      "                                                                                                    \r"
     ]
    },
    {
     "name": "stdout",
     "output_type": "stream",
     "text": [
      "    Epoch 6/15 - Train Loss: 0.3623, Acc: 91.30% | Val Loss: 0.5707, Acc: 82.88%\n"
     ]
    },
    {
     "name": "stderr",
     "output_type": "stream",
     "text": [
      "                                                                                                    \r"
     ]
    },
    {
     "name": "stdout",
     "output_type": "stream",
     "text": [
      "    Epoch 7/15 - Train Loss: 0.3174, Acc: 92.05% | Val Loss: 0.5710, Acc: 83.15%\n"
     ]
    },
    {
     "name": "stderr",
     "output_type": "stream",
     "text": [
      "                                                                                                    \r"
     ]
    },
    {
     "name": "stdout",
     "output_type": "stream",
     "text": [
      "    Epoch 8/15 - Train Loss: 0.2638, Acc: 93.82% | Val Loss: 0.5622, Acc: 82.88%\n"
     ]
    },
    {
     "name": "stderr",
     "output_type": "stream",
     "text": [
      "                                                                                                    \r"
     ]
    },
    {
     "name": "stdout",
     "output_type": "stream",
     "text": [
      "    Epoch 9/15 - Train Loss: 0.2380, Acc: 94.46% | Val Loss: 0.5634, Acc: 82.88%\n"
     ]
    },
    {
     "name": "stderr",
     "output_type": "stream",
     "text": [
      "                                                                                                    \r"
     ]
    },
    {
     "name": "stdout",
     "output_type": "stream",
     "text": [
      "    Epoch 10/15 - Train Loss: 0.2018, Acc: 95.86% | Val Loss: 0.5570, Acc: 82.74%\n"
     ]
    },
    {
     "name": "stderr",
     "output_type": "stream",
     "text": [
      "                                                                                                    \r"
     ]
    },
    {
     "name": "stdout",
     "output_type": "stream",
     "text": [
      "    Epoch 11/15 - Train Loss: 0.1842, Acc: 95.89% | Val Loss: 0.5474, Acc: 83.42%\n"
     ]
    },
    {
     "name": "stderr",
     "output_type": "stream",
     "text": [
      "                                                                                                    \r"
     ]
    },
    {
     "name": "stdout",
     "output_type": "stream",
     "text": [
      "    Epoch 12/15 - Train Loss: 0.1709, Acc: 96.47% | Val Loss: 0.5522, Acc: 83.29%\n"
     ]
    },
    {
     "name": "stderr",
     "output_type": "stream",
     "text": [
      "                                                                                                    \r"
     ]
    },
    {
     "name": "stdout",
     "output_type": "stream",
     "text": [
      "    Epoch 13/15 - Train Loss: 0.1497, Acc: 97.11% | Val Loss: 0.5447, Acc: 82.88%\n"
     ]
    },
    {
     "name": "stderr",
     "output_type": "stream",
     "text": [
      "                                                                                                    \r"
     ]
    },
    {
     "name": "stdout",
     "output_type": "stream",
     "text": [
      "    Epoch 14/15 - Train Loss: 0.1373, Acc: 97.32% | Val Loss: 0.5456, Acc: 83.15%\n"
     ]
    },
    {
     "name": "stderr",
     "output_type": "stream",
     "text": [
      "                                                                                                    \r"
     ]
    },
    {
     "name": "stdout",
     "output_type": "stream",
     "text": [
      "    Epoch 15/15 - Train Loss: 0.1199, Acc: 98.00% | Val Loss: 0.5496, Acc: 82.88%\n",
      "  Trial 11/12 with params: {'lr_backbone': 5e-05, 'lr_head': 0.001, 'weight_decay': 0.001}\n"
     ]
    },
    {
     "name": "stderr",
     "output_type": "stream",
     "text": [
      "                                                                                                    \r"
     ]
    },
    {
     "name": "stdout",
     "output_type": "stream",
     "text": [
      "    Epoch 1/15 - Train Loss: 2.5508, Acc: 44.19% | Val Loss: 1.1660, Acc: 73.78%\n"
     ]
    },
    {
     "name": "stderr",
     "output_type": "stream",
     "text": [
      "                                                                                                    \r"
     ]
    },
    {
     "name": "stdout",
     "output_type": "stream",
     "text": [
      "    Epoch 2/15 - Train Loss: 1.1679, Acc: 76.22% | Val Loss: 0.7415, Acc: 79.89%\n"
     ]
    },
    {
     "name": "stderr",
     "output_type": "stream",
     "text": [
      "                                                                                                    \r"
     ]
    },
    {
     "name": "stdout",
     "output_type": "stream",
     "text": [
      "    Epoch 3/15 - Train Loss: 0.7406, Acc: 83.53% | Val Loss: 0.6416, Acc: 81.66%\n"
     ]
    },
    {
     "name": "stderr",
     "output_type": "stream",
     "text": [
      "                                                                                                    \r"
     ]
    },
    {
     "name": "stdout",
     "output_type": "stream",
     "text": [
      "    Epoch 4/15 - Train Loss: 0.5586, Acc: 86.38% | Val Loss: 0.6076, Acc: 82.61%\n"
     ]
    },
    {
     "name": "stderr",
     "output_type": "stream",
     "text": [
      "                                                                                                    \r"
     ]
    },
    {
     "name": "stdout",
     "output_type": "stream",
     "text": [
      "    Epoch 5/15 - Train Loss: 0.4488, Acc: 89.61% | Val Loss: 0.5845, Acc: 82.74%\n"
     ]
    },
    {
     "name": "stderr",
     "output_type": "stream",
     "text": [
      "                                                                                                    \r"
     ]
    },
    {
     "name": "stdout",
     "output_type": "stream",
     "text": [
      "    Epoch 6/15 - Train Loss: 0.3736, Acc: 91.00% | Val Loss: 0.5748, Acc: 82.61%\n"
     ]
    },
    {
     "name": "stderr",
     "output_type": "stream",
     "text": [
      "                                                                                                    \r"
     ]
    },
    {
     "name": "stdout",
     "output_type": "stream",
     "text": [
      "    Epoch 7/15 - Train Loss: 0.3083, Acc: 92.93% | Val Loss: 0.5715, Acc: 83.42%\n"
     ]
    },
    {
     "name": "stderr",
     "output_type": "stream",
     "text": [
      "                                                                                                    \r"
     ]
    },
    {
     "name": "stdout",
     "output_type": "stream",
     "text": [
      "    Epoch 8/15 - Train Loss: 0.2730, Acc: 93.89% | Val Loss: 0.5594, Acc: 83.15%\n"
     ]
    },
    {
     "name": "stderr",
     "output_type": "stream",
     "text": [
      "                                                                                                    \r"
     ]
    },
    {
     "name": "stdout",
     "output_type": "stream",
     "text": [
      "    Epoch 9/15 - Train Loss: 0.2362, Acc: 94.94% | Val Loss: 0.5577, Acc: 82.61%\n"
     ]
    },
    {
     "name": "stderr",
     "output_type": "stream",
     "text": [
      "                                                                                                    \r"
     ]
    },
    {
     "name": "stdout",
     "output_type": "stream",
     "text": [
      "    Epoch 10/15 - Train Loss: 0.2167, Acc: 95.21% | Val Loss: 0.5538, Acc: 82.47%\n"
     ]
    },
    {
     "name": "stderr",
     "output_type": "stream",
     "text": [
      "                                                                                                    \r"
     ]
    },
    {
     "name": "stdout",
     "output_type": "stream",
     "text": [
      "    Epoch 11/15 - Train Loss: 0.1883, Acc: 96.23% | Val Loss: 0.5552, Acc: 82.74%\n"
     ]
    },
    {
     "name": "stderr",
     "output_type": "stream",
     "text": [
      "                                                                                                    \r"
     ]
    },
    {
     "name": "stdout",
     "output_type": "stream",
     "text": [
      "    Epoch 12/15 - Train Loss: 0.1690, Acc: 96.64% | Val Loss: 0.5625, Acc: 83.02%\n"
     ]
    },
    {
     "name": "stderr",
     "output_type": "stream",
     "text": [
      "                                                                                                    \r"
     ]
    },
    {
     "name": "stdout",
     "output_type": "stream",
     "text": [
      "    Epoch 13/15 - Train Loss: 0.1441, Acc: 97.42% | Val Loss: 0.5559, Acc: 82.61%\n"
     ]
    },
    {
     "name": "stderr",
     "output_type": "stream",
     "text": [
      "                                                                                                    \r"
     ]
    },
    {
     "name": "stdout",
     "output_type": "stream",
     "text": [
      "    Epoch 14/15 - Train Loss: 0.1318, Acc: 97.59% | Val Loss: 0.5482, Acc: 83.42%\n"
     ]
    },
    {
     "name": "stderr",
     "output_type": "stream",
     "text": [
      "                                                                                                    \r"
     ]
    },
    {
     "name": "stdout",
     "output_type": "stream",
     "text": [
      "    Epoch 15/15 - Train Loss: 0.1205, Acc: 97.93% | Val Loss: 0.5514, Acc: 82.61%\n",
      "  Trial 12/12 with params: {'lr_backbone': 5e-05, 'lr_head': 0.001, 'weight_decay': 0}\n"
     ]
    },
    {
     "name": "stderr",
     "output_type": "stream",
     "text": [
      "                                                                                                    \r"
     ]
    },
    {
     "name": "stdout",
     "output_type": "stream",
     "text": [
      "    Epoch 1/15 - Train Loss: 2.5342, Acc: 44.46% | Val Loss: 1.1846, Acc: 73.51%\n"
     ]
    },
    {
     "name": "stderr",
     "output_type": "stream",
     "text": [
      "                                                                                                    \r"
     ]
    },
    {
     "name": "stdout",
     "output_type": "stream",
     "text": [
      "    Epoch 2/15 - Train Loss: 1.1661, Acc: 77.58% | Val Loss: 0.7497, Acc: 79.21%\n"
     ]
    },
    {
     "name": "stderr",
     "output_type": "stream",
     "text": [
      "                                                                                                    \r"
     ]
    },
    {
     "name": "stdout",
     "output_type": "stream",
     "text": [
      "    Epoch 3/15 - Train Loss: 0.7398, Acc: 83.76% | Val Loss: 0.6492, Acc: 81.11%\n"
     ]
    },
    {
     "name": "stderr",
     "output_type": "stream",
     "text": [
      "                                                                                                    \r"
     ]
    },
    {
     "name": "stdout",
     "output_type": "stream",
     "text": [
      "    Epoch 4/15 - Train Loss: 0.5476, Acc: 87.64% | Val Loss: 0.6096, Acc: 81.79%\n"
     ]
    },
    {
     "name": "stderr",
     "output_type": "stream",
     "text": [
      "                                                                                                    \r"
     ]
    },
    {
     "name": "stdout",
     "output_type": "stream",
     "text": [
      "    Epoch 5/15 - Train Loss: 0.4355, Acc: 90.08% | Val Loss: 0.5849, Acc: 82.47%\n"
     ]
    },
    {
     "name": "stderr",
     "output_type": "stream",
     "text": [
      "                                                                                                    \r"
     ]
    },
    {
     "name": "stdout",
     "output_type": "stream",
     "text": [
      "    Epoch 6/15 - Train Loss: 0.3790, Acc: 91.27% | Val Loss: 0.5811, Acc: 82.34%\n"
     ]
    },
    {
     "name": "stderr",
     "output_type": "stream",
     "text": [
      "                                                                                                    \r"
     ]
    },
    {
     "name": "stdout",
     "output_type": "stream",
     "text": [
      "    Epoch 7/15 - Train Loss: 0.3040, Acc: 92.73% | Val Loss: 0.5660, Acc: 82.88%\n"
     ]
    },
    {
     "name": "stderr",
     "output_type": "stream",
     "text": [
      "                                                                                                    \r"
     ]
    },
    {
     "name": "stdout",
     "output_type": "stream",
     "text": [
      "    Epoch 8/15 - Train Loss: 0.2612, Acc: 93.82% | Val Loss: 0.5518, Acc: 84.24%\n"
     ]
    },
    {
     "name": "stderr",
     "output_type": "stream",
     "text": [
      "                                                                                                    \r"
     ]
    },
    {
     "name": "stdout",
     "output_type": "stream",
     "text": [
      "    Epoch 9/15 - Train Loss: 0.2390, Acc: 94.67% | Val Loss: 0.5572, Acc: 83.29%\n"
     ]
    },
    {
     "name": "stderr",
     "output_type": "stream",
     "text": [
      "                                                                                                    \r"
     ]
    },
    {
     "name": "stdout",
     "output_type": "stream",
     "text": [
      "    Epoch 10/15 - Train Loss: 0.2040, Acc: 95.14% | Val Loss: 0.5546, Acc: 83.42%\n"
     ]
    },
    {
     "name": "stderr",
     "output_type": "stream",
     "text": [
      "                                                                                                    \r"
     ]
    },
    {
     "name": "stdout",
     "output_type": "stream",
     "text": [
      "    Epoch 11/15 - Train Loss: 0.1874, Acc: 95.99% | Val Loss: 0.5528, Acc: 82.88%\n"
     ]
    },
    {
     "name": "stderr",
     "output_type": "stream",
     "text": [
      "                                                                                                    \r"
     ]
    },
    {
     "name": "stdout",
     "output_type": "stream",
     "text": [
      "    Epoch 12/15 - Train Loss: 0.1600, Acc: 96.84% | Val Loss: 0.5558, Acc: 83.02%\n"
     ]
    },
    {
     "name": "stderr",
     "output_type": "stream",
     "text": [
      "                                                                                                    \r"
     ]
    },
    {
     "name": "stdout",
     "output_type": "stream",
     "text": [
      "    Epoch 13/15 - Train Loss: 0.1485, Acc: 97.38% | Val Loss: 0.5466, Acc: 83.42%\n"
     ]
    },
    {
     "name": "stderr",
     "output_type": "stream",
     "text": [
      "                                                                                                    \r"
     ]
    },
    {
     "name": "stdout",
     "output_type": "stream",
     "text": [
      "    Epoch 14/15 - Train Loss: 0.1417, Acc: 96.94% | Val Loss: 0.5425, Acc: 83.83%\n"
     ]
    },
    {
     "name": "stderr",
     "output_type": "stream",
     "text": [
      "                                                                                                    "
     ]
    },
    {
     "name": "stdout",
     "output_type": "stream",
     "text": [
      "    Epoch 15/15 - Train Loss: 0.1277, Acc: 97.38% | Val Loss: 0.5425, Acc: 83.42%\n",
      "    New best HPO params for mobilenet_mid_aug: {'lr_backbone': 5e-05, 'lr_head': 0.001, 'weight_decay': 0} with Val Acc: 83.42%\n",
      "  Full HPO history for mobilenet_mid_aug saved to: ../results/hpo/hpo_history_mobilenet_mid_aug.json\n",
      "  Best hyperparameters for mobilenet_mid_aug saved to: ../results/hpo/best_params_mobilenet_mid_aug.json\n",
      "--- Finished HPO for Setup ID: mobilenet_mid_aug ---\n",
      "\n",
      "********** HPO Stage for mobilenet_mid_aug finished in 22.84 minutes **********\n",
      "Best HPO parameters found for mobilenet_mid_aug: {'lr_backbone': 5e-05, 'lr_head': 0.001, 'weight_decay': 0}\n"
     ]
    },
    {
     "name": "stderr",
     "output_type": "stream",
     "text": [
      "\r"
     ]
    }
   ],
   "source": [
    "print(f\"\\n{'='*5} STAGE 1: Hyperparameter Optimization {'='*5}\")\n",
    "\n",
    "for setup_id in SETUP_IDS_TO_RUN:\n",
    "    print(f\"\\nRunning HPO for setup: {setup_id}\")\n",
    "    hpo_start_time = time.time()\n",
    "\n",
    "    # Call the HPO function from run_hpo.py\n",
    "    best_hpo_params_found = perform_hpo_for_setup(\n",
    "        setup_id=setup_id,\n",
    "        hpo_grid=config.HPO_CONFIG_LIST,\n",
    "        num_epochs_hpo=HPO_EPOCHS,\n",
    "        batch_size=BATCH_SIZE,\n",
    "        device=device\n",
    "        # The function saves its outputs to files within config.HPO_DIR\n",
    "    )\n",
    "\n",
    "    hpo_end_time = time.time()\n",
    "    print(f\"\\n{'*'*10} HPO Stage for {setup_id} finished in {(hpo_end_time - hpo_start_time)/60:.2f} minutes {'*'*10}\")\n",
    "\n",
    "    if best_hpo_params_found:\n",
    "        print(f\"Best HPO parameters found for {setup_id}: {best_hpo_params_found}\")\n",
    "        # These are also saved to results/hpo/best_params_{setup_id}.json\n",
    "    else:\n",
    "        print(f\"HPO did not complete successfully or find best parameters for {setup_id}. Cannot proceed.\")\n",
    "        # Consider raising an error or stopping the notebook here if HPO is critical for next steps\n"
   ]
  },
  {
   "cell_type": "markdown",
   "id": "deedbae2",
   "metadata": {},
   "source": [
    "## Stage 2: Final Model Training"
   ]
  },
  {
   "cell_type": "code",
   "execution_count": 10,
   "id": "3361d797",
   "metadata": {},
   "outputs": [
    {
     "name": "stdout",
     "output_type": "stream",
     "text": [
      "\n",
      "==================== STAGE 2: Final Model Training for resnet_head_noaug ====================\n",
      "--- Starting Final Training for Setup ID: resnet_head_noaug ---\n",
      "  Loaded best HPO params: {'lr_backbone': 5e-05, 'lr_head': 0.001, 'weight_decay': 0.001}\n",
      "  Epoch 1/50\n"
     ]
    },
    {
     "name": "stderr",
     "output_type": "stream",
     "text": [
      "                                                                                                    \r"
     ]
    },
    {
     "name": "stdout",
     "output_type": "stream",
     "text": [
      "    Train Loss: 2.2411 Acc: 50.35% | Time: 6.14s\n",
      "    Training loss improved (inf -> 2.2411). Saving model...\n",
      "    Best model (lowest training loss) weights saved to ../results/final_training/best_model_resnet_head_noaug.pth\n",
      "  Epoch 2/50\n"
     ]
    },
    {
     "name": "stderr",
     "output_type": "stream",
     "text": [
      "                                                                                                    \r"
     ]
    },
    {
     "name": "stdout",
     "output_type": "stream",
     "text": [
      "    Train Loss: 0.9139 Acc: 84.40% | Time: 6.00s\n",
      "    Training loss improved (2.2411 -> 0.9139). Saving model...\n",
      "    Best model (lowest training loss) weights saved to ../results/final_training/best_model_resnet_head_noaug.pth\n",
      "  Epoch 3/50\n"
     ]
    },
    {
     "name": "stderr",
     "output_type": "stream",
     "text": [
      "                                                                                                    \r"
     ]
    },
    {
     "name": "stdout",
     "output_type": "stream",
     "text": [
      "    Train Loss: 0.6068 Acc: 88.26% | Time: 6.15s\n",
      "    Training loss improved (0.9139 -> 0.6068). Saving model...\n",
      "    Best model (lowest training loss) weights saved to ../results/final_training/best_model_resnet_head_noaug.pth\n",
      "  Epoch 4/50\n"
     ]
    },
    {
     "name": "stderr",
     "output_type": "stream",
     "text": [
      "                                                                                                    \r"
     ]
    },
    {
     "name": "stdout",
     "output_type": "stream",
     "text": [
      "    Train Loss: 0.4825 Acc: 90.14% | Time: 6.03s\n",
      "    Training loss improved (0.6068 -> 0.4825). Saving model...\n",
      "    Best model (lowest training loss) weights saved to ../results/final_training/best_model_resnet_head_noaug.pth\n",
      "  Epoch 5/50\n"
     ]
    },
    {
     "name": "stderr",
     "output_type": "stream",
     "text": [
      "                                                                                                    \r"
     ]
    },
    {
     "name": "stdout",
     "output_type": "stream",
     "text": [
      "    Train Loss: 0.3952 Acc: 92.23% | Time: 6.21s\n",
      "    Training loss improved (0.4825 -> 0.3952). Saving model...\n",
      "    Best model (lowest training loss) weights saved to ../results/final_training/best_model_resnet_head_noaug.pth\n",
      "  Epoch 6/50\n"
     ]
    },
    {
     "name": "stderr",
     "output_type": "stream",
     "text": [
      "                                                                                                    \r"
     ]
    },
    {
     "name": "stdout",
     "output_type": "stream",
     "text": [
      "    Train Loss: 0.3382 Acc: 93.10% | Time: 6.14s\n",
      "    Training loss improved (0.3952 -> 0.3382). Saving model...\n",
      "    Best model (lowest training loss) weights saved to ../results/final_training/best_model_resnet_head_noaug.pth\n",
      "  Epoch 7/50\n"
     ]
    },
    {
     "name": "stderr",
     "output_type": "stream",
     "text": [
      "                                                                                                    \r"
     ]
    },
    {
     "name": "stdout",
     "output_type": "stream",
     "text": [
      "    Train Loss: 0.3047 Acc: 93.48% | Time: 6.02s\n",
      "    Training loss improved (0.3382 -> 0.3047). Saving model...\n",
      "    Best model (lowest training loss) weights saved to ../results/final_training/best_model_resnet_head_noaug.pth\n",
      "  Epoch 8/50\n"
     ]
    },
    {
     "name": "stderr",
     "output_type": "stream",
     "text": [
      "                                                                                                    \r"
     ]
    },
    {
     "name": "stdout",
     "output_type": "stream",
     "text": [
      "    Train Loss: 0.2661 Acc: 94.78% | Time: 6.20s\n",
      "    Training loss improved (0.3047 -> 0.2661). Saving model...\n",
      "    Best model (lowest training loss) weights saved to ../results/final_training/best_model_resnet_head_noaug.pth\n",
      "  Epoch 9/50\n"
     ]
    },
    {
     "name": "stderr",
     "output_type": "stream",
     "text": [
      "                                                                                                    \r"
     ]
    },
    {
     "name": "stdout",
     "output_type": "stream",
     "text": [
      "    Train Loss: 0.2446 Acc: 95.35% | Time: 6.06s\n",
      "    Training loss improved (0.2661 -> 0.2446). Saving model...\n",
      "    Best model (lowest training loss) weights saved to ../results/final_training/best_model_resnet_head_noaug.pth\n",
      "  Epoch 10/50\n"
     ]
    },
    {
     "name": "stderr",
     "output_type": "stream",
     "text": [
      "                                                                                                    \r"
     ]
    },
    {
     "name": "stdout",
     "output_type": "stream",
     "text": [
      "    Train Loss: 0.2213 Acc: 95.68% | Time: 6.05s\n",
      "    Training loss improved (0.2446 -> 0.2213). Saving model...\n",
      "    Best model (lowest training loss) weights saved to ../results/final_training/best_model_resnet_head_noaug.pth\n",
      "  Epoch 11/50\n"
     ]
    },
    {
     "name": "stderr",
     "output_type": "stream",
     "text": [
      "                                                                                                    \r"
     ]
    },
    {
     "name": "stdout",
     "output_type": "stream",
     "text": [
      "    Train Loss: 0.2050 Acc: 96.30% | Time: 6.15s\n",
      "    Training loss improved (0.2213 -> 0.2050). Saving model...\n",
      "    Best model (lowest training loss) weights saved to ../results/final_training/best_model_resnet_head_noaug.pth\n",
      "  Epoch 12/50\n"
     ]
    },
    {
     "name": "stderr",
     "output_type": "stream",
     "text": [
      "                                                                                                    \r"
     ]
    },
    {
     "name": "stdout",
     "output_type": "stream",
     "text": [
      "    Train Loss: 0.1893 Acc: 96.25% | Time: 6.24s\n",
      "    Training loss improved (0.2050 -> 0.1893). Saving model...\n",
      "    Best model (lowest training loss) weights saved to ../results/final_training/best_model_resnet_head_noaug.pth\n",
      "  Epoch 13/50\n"
     ]
    },
    {
     "name": "stderr",
     "output_type": "stream",
     "text": [
      "                                                                                                    \r"
     ]
    },
    {
     "name": "stdout",
     "output_type": "stream",
     "text": [
      "    Train Loss: 0.1722 Acc: 96.82% | Time: 6.06s\n",
      "    Training loss improved (0.1893 -> 0.1722). Saving model...\n",
      "    Best model (lowest training loss) weights saved to ../results/final_training/best_model_resnet_head_noaug.pth\n",
      "  Epoch 14/50\n"
     ]
    },
    {
     "name": "stderr",
     "output_type": "stream",
     "text": [
      "                                                                                                    \r"
     ]
    },
    {
     "name": "stdout",
     "output_type": "stream",
     "text": [
      "    Train Loss: 0.1594 Acc: 97.39% | Time: 6.15s\n",
      "    Training loss improved (0.1722 -> 0.1594). Saving model...\n",
      "    Best model (lowest training loss) weights saved to ../results/final_training/best_model_resnet_head_noaug.pth\n",
      "  Epoch 15/50\n"
     ]
    },
    {
     "name": "stderr",
     "output_type": "stream",
     "text": [
      "                                                                                                    \r"
     ]
    },
    {
     "name": "stdout",
     "output_type": "stream",
     "text": [
      "    Train Loss: 0.1504 Acc: 97.36% | Time: 6.08s\n",
      "    Training loss improved (0.1594 -> 0.1504). Saving model...\n",
      "    Best model (lowest training loss) weights saved to ../results/final_training/best_model_resnet_head_noaug.pth\n",
      "  Epoch 16/50\n"
     ]
    },
    {
     "name": "stderr",
     "output_type": "stream",
     "text": [
      "                                                                                                    \r"
     ]
    },
    {
     "name": "stdout",
     "output_type": "stream",
     "text": [
      "    Train Loss: 0.1398 Acc: 97.77% | Time: 6.21s\n",
      "    Training loss improved (0.1504 -> 0.1398). Saving model...\n",
      "    Best model (lowest training loss) weights saved to ../results/final_training/best_model_resnet_head_noaug.pth\n",
      "  Epoch 17/50\n"
     ]
    },
    {
     "name": "stderr",
     "output_type": "stream",
     "text": [
      "                                                                                                    \r"
     ]
    },
    {
     "name": "stdout",
     "output_type": "stream",
     "text": [
      "    Train Loss: 0.1290 Acc: 98.26% | Time: 6.19s\n",
      "    Training loss improved (0.1398 -> 0.1290). Saving model...\n",
      "    Best model (lowest training loss) weights saved to ../results/final_training/best_model_resnet_head_noaug.pth\n",
      "  Epoch 18/50\n"
     ]
    },
    {
     "name": "stderr",
     "output_type": "stream",
     "text": [
      "                                                                                                    \r"
     ]
    },
    {
     "name": "stdout",
     "output_type": "stream",
     "text": [
      "    Train Loss: 0.1271 Acc: 98.23% | Time: 6.18s\n",
      "    Training loss improved (0.1290 -> 0.1271). Saving model...\n",
      "    Best model (lowest training loss) weights saved to ../results/final_training/best_model_resnet_head_noaug.pth\n",
      "  Epoch 19/50\n"
     ]
    },
    {
     "name": "stderr",
     "output_type": "stream",
     "text": [
      "                                                                                                    \r"
     ]
    },
    {
     "name": "stdout",
     "output_type": "stream",
     "text": [
      "    Train Loss: 0.1144 Acc: 98.83% | Time: 6.15s\n",
      "    Training loss improved (0.1271 -> 0.1144). Saving model...\n",
      "    Best model (lowest training loss) weights saved to ../results/final_training/best_model_resnet_head_noaug.pth\n",
      "  Epoch 20/50\n"
     ]
    },
    {
     "name": "stderr",
     "output_type": "stream",
     "text": [
      "                                                                                                    \r"
     ]
    },
    {
     "name": "stdout",
     "output_type": "stream",
     "text": [
      "    Train Loss: 0.1054 Acc: 98.67% | Time: 6.16s\n",
      "    Training loss improved (0.1144 -> 0.1054). Saving model...\n",
      "    Best model (lowest training loss) weights saved to ../results/final_training/best_model_resnet_head_noaug.pth\n",
      "  Epoch 21/50\n"
     ]
    },
    {
     "name": "stderr",
     "output_type": "stream",
     "text": [
      "                                                                                                    \r"
     ]
    },
    {
     "name": "stdout",
     "output_type": "stream",
     "text": [
      "    Train Loss: 0.1032 Acc: 98.89% | Time: 6.22s\n",
      "    Training loss improved (0.1054 -> 0.1032). Saving model...\n",
      "    Best model (lowest training loss) weights saved to ../results/final_training/best_model_resnet_head_noaug.pth\n",
      "  Epoch 22/50\n"
     ]
    },
    {
     "name": "stderr",
     "output_type": "stream",
     "text": [
      "                                                                                                    \r"
     ]
    },
    {
     "name": "stdout",
     "output_type": "stream",
     "text": [
      "    Train Loss: 0.0987 Acc: 98.94% | Time: 6.05s\n",
      "    Training loss improved (0.1032 -> 0.0987). Saving model...\n",
      "    Best model (lowest training loss) weights saved to ../results/final_training/best_model_resnet_head_noaug.pth\n",
      "  Epoch 23/50\n"
     ]
    },
    {
     "name": "stderr",
     "output_type": "stream",
     "text": [
      "                                                                                                    \r"
     ]
    },
    {
     "name": "stdout",
     "output_type": "stream",
     "text": [
      "    Train Loss: 0.0914 Acc: 98.78% | Time: 6.21s\n",
      "    Training loss improved (0.0987 -> 0.0914). Saving model...\n",
      "    Best model (lowest training loss) weights saved to ../results/final_training/best_model_resnet_head_noaug.pth\n",
      "  Epoch 24/50\n"
     ]
    },
    {
     "name": "stderr",
     "output_type": "stream",
     "text": [
      "                                                                                                    \r"
     ]
    },
    {
     "name": "stdout",
     "output_type": "stream",
     "text": [
      "    Train Loss: 0.0905 Acc: 98.80% | Time: 6.15s\n",
      "    Training loss improved (0.0914 -> 0.0905). Saving model...\n",
      "    Best model (lowest training loss) weights saved to ../results/final_training/best_model_resnet_head_noaug.pth\n",
      "  Epoch 25/50\n"
     ]
    },
    {
     "name": "stderr",
     "output_type": "stream",
     "text": [
      "                                                                                                    \r"
     ]
    },
    {
     "name": "stdout",
     "output_type": "stream",
     "text": [
      "    Train Loss: 0.0829 Acc: 99.27% | Time: 6.04s\n",
      "    Training loss improved (0.0905 -> 0.0829). Saving model...\n",
      "    Best model (lowest training loss) weights saved to ../results/final_training/best_model_resnet_head_noaug.pth\n",
      "  Epoch 26/50\n"
     ]
    },
    {
     "name": "stderr",
     "output_type": "stream",
     "text": [
      "                                                                                                    \r"
     ]
    },
    {
     "name": "stdout",
     "output_type": "stream",
     "text": [
      "    Train Loss: 0.0782 Acc: 99.18% | Time: 6.07s\n",
      "    Training loss improved (0.0829 -> 0.0782). Saving model...\n",
      "    Best model (lowest training loss) weights saved to ../results/final_training/best_model_resnet_head_noaug.pth\n",
      "  Epoch 27/50\n"
     ]
    },
    {
     "name": "stderr",
     "output_type": "stream",
     "text": [
      "                                                                                                    \r"
     ]
    },
    {
     "name": "stdout",
     "output_type": "stream",
     "text": [
      "    Train Loss: 0.0777 Acc: 99.38% | Time: 6.22s\n",
      "    Training loss improved (0.0782 -> 0.0777). Saving model...\n",
      "    Best model (lowest training loss) weights saved to ../results/final_training/best_model_resnet_head_noaug.pth\n",
      "  Epoch 28/50\n"
     ]
    },
    {
     "name": "stderr",
     "output_type": "stream",
     "text": [
      "                                                                                                    \r"
     ]
    },
    {
     "name": "stdout",
     "output_type": "stream",
     "text": [
      "    Train Loss: 0.0725 Acc: 99.35% | Time: 6.19s\n",
      "    Training loss improved (0.0777 -> 0.0725). Saving model...\n",
      "    Best model (lowest training loss) weights saved to ../results/final_training/best_model_resnet_head_noaug.pth\n",
      "  Epoch 29/50\n"
     ]
    },
    {
     "name": "stderr",
     "output_type": "stream",
     "text": [
      "                                                                                                    \r"
     ]
    },
    {
     "name": "stdout",
     "output_type": "stream",
     "text": [
      "    Train Loss: 0.0683 Acc: 99.57% | Time: 6.25s\n",
      "    Training loss improved (0.0725 -> 0.0683). Saving model...\n",
      "    Best model (lowest training loss) weights saved to ../results/final_training/best_model_resnet_head_noaug.pth\n",
      "  Epoch 30/50\n"
     ]
    },
    {
     "name": "stderr",
     "output_type": "stream",
     "text": [
      "                                                                                                    \r"
     ]
    },
    {
     "name": "stdout",
     "output_type": "stream",
     "text": [
      "    Train Loss: 0.0657 Acc: 99.62% | Time: 6.16s\n",
      "    Training loss improved (0.0683 -> 0.0657). Saving model...\n",
      "    Best model (lowest training loss) weights saved to ../results/final_training/best_model_resnet_head_noaug.pth\n",
      "  Epoch 31/50\n"
     ]
    },
    {
     "name": "stderr",
     "output_type": "stream",
     "text": [
      "                                                                                                    \r"
     ]
    },
    {
     "name": "stdout",
     "output_type": "stream",
     "text": [
      "    Train Loss: 0.0627 Acc: 99.59% | Time: 6.11s\n",
      "    Training loss improved (0.0657 -> 0.0627). Saving model...\n",
      "    Best model (lowest training loss) weights saved to ../results/final_training/best_model_resnet_head_noaug.pth\n",
      "  Epoch 32/50\n"
     ]
    },
    {
     "name": "stderr",
     "output_type": "stream",
     "text": [
      "                                                                                                    \r"
     ]
    },
    {
     "name": "stdout",
     "output_type": "stream",
     "text": [
      "    Train Loss: 0.0571 Acc: 99.81% | Time: 6.21s\n",
      "    Training loss improved (0.0627 -> 0.0571). Saving model...\n",
      "    Best model (lowest training loss) weights saved to ../results/final_training/best_model_resnet_head_noaug.pth\n",
      "  Epoch 33/50\n"
     ]
    },
    {
     "name": "stderr",
     "output_type": "stream",
     "text": [
      "                                                                                                    \r"
     ]
    },
    {
     "name": "stdout",
     "output_type": "stream",
     "text": [
      "    Train Loss: 0.0584 Acc: 99.70% | Time: 6.07s\n",
      "    No improvement in training loss for 1 epoch(s).\n",
      "  Epoch 34/50\n"
     ]
    },
    {
     "name": "stderr",
     "output_type": "stream",
     "text": [
      "                                                                                                    \r"
     ]
    },
    {
     "name": "stdout",
     "output_type": "stream",
     "text": [
      "    Train Loss: 0.0582 Acc: 99.46% | Time: 6.17s\n",
      "    No improvement in training loss for 2 epoch(s).\n",
      "  Epoch 35/50\n"
     ]
    },
    {
     "name": "stderr",
     "output_type": "stream",
     "text": [
      "                                                                                                    \r"
     ]
    },
    {
     "name": "stdout",
     "output_type": "stream",
     "text": [
      "    Train Loss: 0.0537 Acc: 99.78% | Time: 5.87s\n",
      "    Training loss improved (0.0571 -> 0.0537). Saving model...\n",
      "    Best model (lowest training loss) weights saved to ../results/final_training/best_model_resnet_head_noaug.pth\n",
      "  Epoch 36/50\n"
     ]
    },
    {
     "name": "stderr",
     "output_type": "stream",
     "text": [
      "                                                                                                    \r"
     ]
    },
    {
     "name": "stdout",
     "output_type": "stream",
     "text": [
      "    Train Loss: 0.0516 Acc: 99.70% | Time: 6.19s\n",
      "    Training loss improved (0.0537 -> 0.0516). Saving model...\n",
      "    Best model (lowest training loss) weights saved to ../results/final_training/best_model_resnet_head_noaug.pth\n",
      "  Epoch 37/50\n"
     ]
    },
    {
     "name": "stderr",
     "output_type": "stream",
     "text": [
      "                                                                                                    \r"
     ]
    },
    {
     "name": "stdout",
     "output_type": "stream",
     "text": [
      "    Train Loss: 0.0490 Acc: 99.59% | Time: 5.99s\n",
      "    Training loss improved (0.0516 -> 0.0490). Saving model...\n",
      "    Best model (lowest training loss) weights saved to ../results/final_training/best_model_resnet_head_noaug.pth\n",
      "  Epoch 38/50\n"
     ]
    },
    {
     "name": "stderr",
     "output_type": "stream",
     "text": [
      "                                                                                                    \r"
     ]
    },
    {
     "name": "stdout",
     "output_type": "stream",
     "text": [
      "    Train Loss: 0.0478 Acc: 99.73% | Time: 6.04s\n",
      "    Training loss improved (0.0490 -> 0.0478). Saving model...\n",
      "    Best model (lowest training loss) weights saved to ../results/final_training/best_model_resnet_head_noaug.pth\n",
      "  Epoch 39/50\n"
     ]
    },
    {
     "name": "stderr",
     "output_type": "stream",
     "text": [
      "                                                                                                    \r"
     ]
    },
    {
     "name": "stdout",
     "output_type": "stream",
     "text": [
      "    Train Loss: 0.0458 Acc: 99.78% | Time: 6.19s\n",
      "    Training loss improved (0.0478 -> 0.0458). Saving model...\n",
      "    Best model (lowest training loss) weights saved to ../results/final_training/best_model_resnet_head_noaug.pth\n",
      "  Epoch 40/50\n"
     ]
    },
    {
     "name": "stderr",
     "output_type": "stream",
     "text": [
      "                                                                                                    \r"
     ]
    },
    {
     "name": "stdout",
     "output_type": "stream",
     "text": [
      "    Train Loss: 0.0448 Acc: 99.76% | Time: 6.06s\n",
      "    Training loss improved (0.0458 -> 0.0448). Saving model...\n",
      "    Best model (lowest training loss) weights saved to ../results/final_training/best_model_resnet_head_noaug.pth\n",
      "  Epoch 41/50\n"
     ]
    },
    {
     "name": "stderr",
     "output_type": "stream",
     "text": [
      "                                                                                                    \r"
     ]
    },
    {
     "name": "stdout",
     "output_type": "stream",
     "text": [
      "    Train Loss: 0.0427 Acc: 99.81% | Time: 6.16s\n",
      "    Training loss improved (0.0448 -> 0.0427). Saving model...\n",
      "    Best model (lowest training loss) weights saved to ../results/final_training/best_model_resnet_head_noaug.pth\n",
      "  Epoch 42/50\n"
     ]
    },
    {
     "name": "stderr",
     "output_type": "stream",
     "text": [
      "                                                                                                    \r"
     ]
    },
    {
     "name": "stdout",
     "output_type": "stream",
     "text": [
      "    Train Loss: 0.0413 Acc: 99.65% | Time: 6.05s\n",
      "    Training loss improved (0.0427 -> 0.0413). Saving model...\n",
      "    Best model (lowest training loss) weights saved to ../results/final_training/best_model_resnet_head_noaug.pth\n",
      "  Epoch 43/50\n"
     ]
    },
    {
     "name": "stderr",
     "output_type": "stream",
     "text": [
      "                                                                                                    \r"
     ]
    },
    {
     "name": "stdout",
     "output_type": "stream",
     "text": [
      "    Train Loss: 0.0417 Acc: 99.89% | Time: 6.23s\n",
      "    No improvement in training loss for 1 epoch(s).\n",
      "  Epoch 44/50\n"
     ]
    },
    {
     "name": "stderr",
     "output_type": "stream",
     "text": [
      "                                                                                                    \r"
     ]
    },
    {
     "name": "stdout",
     "output_type": "stream",
     "text": [
      "    Train Loss: 0.0398 Acc: 99.73% | Time: 6.19s\n",
      "    Training loss improved (0.0413 -> 0.0398). Saving model...\n",
      "    Best model (lowest training loss) weights saved to ../results/final_training/best_model_resnet_head_noaug.pth\n",
      "  Epoch 45/50\n"
     ]
    },
    {
     "name": "stderr",
     "output_type": "stream",
     "text": [
      "                                                                                                    \r"
     ]
    },
    {
     "name": "stdout",
     "output_type": "stream",
     "text": [
      "    Train Loss: 0.0376 Acc: 99.92% | Time: 6.19s\n",
      "    Training loss improved (0.0398 -> 0.0376). Saving model...\n",
      "    Best model (lowest training loss) weights saved to ../results/final_training/best_model_resnet_head_noaug.pth\n",
      "  Epoch 46/50\n"
     ]
    },
    {
     "name": "stderr",
     "output_type": "stream",
     "text": [
      "                                                                                                    \r"
     ]
    },
    {
     "name": "stdout",
     "output_type": "stream",
     "text": [
      "    Train Loss: 0.0350 Acc: 99.97% | Time: 6.16s\n",
      "    Training loss improved (0.0376 -> 0.0350). Saving model...\n",
      "    Best model (lowest training loss) weights saved to ../results/final_training/best_model_resnet_head_noaug.pth\n",
      "  Epoch 47/50\n"
     ]
    },
    {
     "name": "stderr",
     "output_type": "stream",
     "text": [
      "                                                                                                    \r"
     ]
    },
    {
     "name": "stdout",
     "output_type": "stream",
     "text": [
      "    Train Loss: 0.0355 Acc: 99.92% | Time: 6.13s\n",
      "    No improvement in training loss for 1 epoch(s).\n",
      "  Epoch 48/50\n"
     ]
    },
    {
     "name": "stderr",
     "output_type": "stream",
     "text": [
      "                                                                                                    \r"
     ]
    },
    {
     "name": "stdout",
     "output_type": "stream",
     "text": [
      "    Train Loss: 0.0339 Acc: 99.86% | Time: 6.20s\n",
      "    Training loss improved (0.0350 -> 0.0339). Saving model...\n",
      "    Best model (lowest training loss) weights saved to ../results/final_training/best_model_resnet_head_noaug.pth\n",
      "  Epoch 49/50\n"
     ]
    },
    {
     "name": "stderr",
     "output_type": "stream",
     "text": [
      "                                                                                                    \r"
     ]
    },
    {
     "name": "stdout",
     "output_type": "stream",
     "text": [
      "    Train Loss: 0.0321 Acc: 99.84% | Time: 6.13s\n",
      "    Training loss improved (0.0339 -> 0.0321). Saving model...\n",
      "    Best model (lowest training loss) weights saved to ../results/final_training/best_model_resnet_head_noaug.pth\n",
      "  Epoch 50/50\n"
     ]
    },
    {
     "name": "stderr",
     "output_type": "stream",
     "text": [
      "                                                                                                    \r"
     ]
    },
    {
     "name": "stdout",
     "output_type": "stream",
     "text": [
      "    Train Loss: 0.0316 Acc: 99.92% | Time: 6.11s\n",
      "    Training loss improved (0.0321 -> 0.0316). Saving model...\n",
      "    Best model (lowest training loss) weights saved to ../results/final_training/best_model_resnet_head_noaug.pth\n",
      "  Training Finished. Total time: 5.14 minutes\n",
      "  Lowest Training Loss Achieved: 0.0316\n",
      "  Final training history for resnet_head_noaug saved to: ../results/final_training/final_training_history_resnet_head_noaug.json\n",
      "--- Finished Final Training for Setup ID: resnet_head_noaug ---\n",
      "\n",
      "********** Final Training Stage for resnet_head_noaug finished in 5.14 minutes **********\n",
      "Best model saved to: ../results/final_training/best_model_resnet_head_noaug.pth\n",
      "\n",
      "==================== STAGE 2: Final Model Training for mobilenet_mid_aug ====================\n",
      "--- Starting Final Training for Setup ID: mobilenet_mid_aug ---\n",
      "  Loaded best HPO params: {'lr_backbone': 5e-05, 'lr_head': 0.001, 'weight_decay': 0}\n",
      "  Epoch 1/50\n"
     ]
    },
    {
     "name": "stderr",
     "output_type": "stream",
     "text": [
      "                                                                                                    \r"
     ]
    },
    {
     "name": "stdout",
     "output_type": "stream",
     "text": [
      "    Train Loss: 2.3099 Acc: 50.00% | Time: 7.88s\n",
      "    Training loss improved (inf -> 2.3099). Saving model...\n",
      "    Best model (lowest training loss) weights saved to ../results/final_training/best_model_mobilenet_mid_aug.pth\n",
      "  Epoch 2/50\n"
     ]
    },
    {
     "name": "stderr",
     "output_type": "stream",
     "text": [
      "                                                                                                    \r"
     ]
    },
    {
     "name": "stdout",
     "output_type": "stream",
     "text": [
      "    Train Loss: 0.9752 Acc: 79.24% | Time: 7.79s\n",
      "    Training loss improved (2.3099 -> 0.9752). Saving model...\n",
      "    Best model (lowest training loss) weights saved to ../results/final_training/best_model_mobilenet_mid_aug.pth\n",
      "  Epoch 3/50\n"
     ]
    },
    {
     "name": "stderr",
     "output_type": "stream",
     "text": [
      "                                                                                                    \r"
     ]
    },
    {
     "name": "stdout",
     "output_type": "stream",
     "text": [
      "    Train Loss: 0.6535 Acc: 84.27% | Time: 7.80s\n",
      "    Training loss improved (0.9752 -> 0.6535). Saving model...\n",
      "    Best model (lowest training loss) weights saved to ../results/final_training/best_model_mobilenet_mid_aug.pth\n",
      "  Epoch 4/50\n"
     ]
    },
    {
     "name": "stderr",
     "output_type": "stream",
     "text": [
      "                                                                                                    \r"
     ]
    },
    {
     "name": "stdout",
     "output_type": "stream",
     "text": [
      "    Train Loss: 0.4956 Acc: 88.12% | Time: 7.77s\n",
      "    Training loss improved (0.6535 -> 0.4956). Saving model...\n",
      "    Best model (lowest training loss) weights saved to ../results/final_training/best_model_mobilenet_mid_aug.pth\n",
      "  Epoch 5/50\n"
     ]
    },
    {
     "name": "stderr",
     "output_type": "stream",
     "text": [
      "                                                                                                    \r"
     ]
    },
    {
     "name": "stdout",
     "output_type": "stream",
     "text": [
      "    Train Loss: 0.4109 Acc: 89.35% | Time: 8.01s\n",
      "    Training loss improved (0.4956 -> 0.4109). Saving model...\n",
      "    Best model (lowest training loss) weights saved to ../results/final_training/best_model_mobilenet_mid_aug.pth\n",
      "  Epoch 6/50\n"
     ]
    },
    {
     "name": "stderr",
     "output_type": "stream",
     "text": [
      "                                                                                                    \r"
     ]
    },
    {
     "name": "stdout",
     "output_type": "stream",
     "text": [
      "    Train Loss: 0.3469 Acc: 91.03% | Time: 7.94s\n",
      "    Training loss improved (0.4109 -> 0.3469). Saving model...\n",
      "    Best model (lowest training loss) weights saved to ../results/final_training/best_model_mobilenet_mid_aug.pth\n",
      "  Epoch 7/50\n"
     ]
    },
    {
     "name": "stderr",
     "output_type": "stream",
     "text": [
      "                                                                                                    \r"
     ]
    },
    {
     "name": "stdout",
     "output_type": "stream",
     "text": [
      "    Train Loss: 0.2918 Acc: 92.20% | Time: 7.79s\n",
      "    Training loss improved (0.3469 -> 0.2918). Saving model...\n",
      "    Best model (lowest training loss) weights saved to ../results/final_training/best_model_mobilenet_mid_aug.pth\n",
      "  Epoch 8/50\n"
     ]
    },
    {
     "name": "stderr",
     "output_type": "stream",
     "text": [
      "                                                                                                    \r"
     ]
    },
    {
     "name": "stdout",
     "output_type": "stream",
     "text": [
      "    Train Loss: 0.2578 Acc: 93.70% | Time: 7.77s\n",
      "    Training loss improved (0.2918 -> 0.2578). Saving model...\n",
      "    Best model (lowest training loss) weights saved to ../results/final_training/best_model_mobilenet_mid_aug.pth\n",
      "  Epoch 9/50\n"
     ]
    },
    {
     "name": "stderr",
     "output_type": "stream",
     "text": [
      "                                                                                                    \r"
     ]
    },
    {
     "name": "stdout",
     "output_type": "stream",
     "text": [
      "    Train Loss: 0.2248 Acc: 94.67% | Time: 7.84s\n",
      "    Training loss improved (0.2578 -> 0.2248). Saving model...\n",
      "    Best model (lowest training loss) weights saved to ../results/final_training/best_model_mobilenet_mid_aug.pth\n",
      "  Epoch 10/50\n"
     ]
    },
    {
     "name": "stderr",
     "output_type": "stream",
     "text": [
      "                                                                                                    \r"
     ]
    },
    {
     "name": "stdout",
     "output_type": "stream",
     "text": [
      "    Train Loss: 0.2047 Acc: 94.78% | Time: 7.74s\n",
      "    Training loss improved (0.2248 -> 0.2047). Saving model...\n",
      "    Best model (lowest training loss) weights saved to ../results/final_training/best_model_mobilenet_mid_aug.pth\n",
      "  Epoch 11/50\n"
     ]
    },
    {
     "name": "stderr",
     "output_type": "stream",
     "text": [
      "                                                                                                    \r"
     ]
    },
    {
     "name": "stdout",
     "output_type": "stream",
     "text": [
      "    Train Loss: 0.1768 Acc: 96.22% | Time: 7.72s\n",
      "    Training loss improved (0.2047 -> 0.1768). Saving model...\n",
      "    Best model (lowest training loss) weights saved to ../results/final_training/best_model_mobilenet_mid_aug.pth\n",
      "  Epoch 12/50\n"
     ]
    },
    {
     "name": "stderr",
     "output_type": "stream",
     "text": [
      "                                                                                                    \r"
     ]
    },
    {
     "name": "stdout",
     "output_type": "stream",
     "text": [
      "    Train Loss: 0.1634 Acc: 96.03% | Time: 7.80s\n",
      "    Training loss improved (0.1768 -> 0.1634). Saving model...\n",
      "    Best model (lowest training loss) weights saved to ../results/final_training/best_model_mobilenet_mid_aug.pth\n",
      "  Epoch 13/50\n"
     ]
    },
    {
     "name": "stderr",
     "output_type": "stream",
     "text": [
      "                                                                                                    \r"
     ]
    },
    {
     "name": "stdout",
     "output_type": "stream",
     "text": [
      "    Train Loss: 0.1449 Acc: 96.90% | Time: 7.67s\n",
      "    Training loss improved (0.1634 -> 0.1449). Saving model...\n",
      "    Best model (lowest training loss) weights saved to ../results/final_training/best_model_mobilenet_mid_aug.pth\n",
      "  Epoch 14/50\n"
     ]
    },
    {
     "name": "stderr",
     "output_type": "stream",
     "text": [
      "                                                                                                    \r"
     ]
    },
    {
     "name": "stdout",
     "output_type": "stream",
     "text": [
      "    Train Loss: 0.1311 Acc: 97.04% | Time: 7.69s\n",
      "    Training loss improved (0.1449 -> 0.1311). Saving model...\n",
      "    Best model (lowest training loss) weights saved to ../results/final_training/best_model_mobilenet_mid_aug.pth\n",
      "  Epoch 15/50\n"
     ]
    },
    {
     "name": "stderr",
     "output_type": "stream",
     "text": [
      "                                                                                                    \r"
     ]
    },
    {
     "name": "stdout",
     "output_type": "stream",
     "text": [
      "    Train Loss: 0.1264 Acc: 97.01% | Time: 7.76s\n",
      "    Training loss improved (0.1311 -> 0.1264). Saving model...\n",
      "    Best model (lowest training loss) weights saved to ../results/final_training/best_model_mobilenet_mid_aug.pth\n",
      "  Epoch 16/50\n"
     ]
    },
    {
     "name": "stderr",
     "output_type": "stream",
     "text": [
      "                                                                                                    \r"
     ]
    },
    {
     "name": "stdout",
     "output_type": "stream",
     "text": [
      "    Train Loss: 0.1106 Acc: 97.72% | Time: 7.89s\n",
      "    Training loss improved (0.1264 -> 0.1106). Saving model...\n",
      "    Best model (lowest training loss) weights saved to ../results/final_training/best_model_mobilenet_mid_aug.pth\n",
      "  Epoch 17/50\n"
     ]
    },
    {
     "name": "stderr",
     "output_type": "stream",
     "text": [
      "                                                                                                    \r"
     ]
    },
    {
     "name": "stdout",
     "output_type": "stream",
     "text": [
      "    Train Loss: 0.1054 Acc: 97.42% | Time: 7.84s\n",
      "    Training loss improved (0.1106 -> 0.1054). Saving model...\n",
      "    Best model (lowest training loss) weights saved to ../results/final_training/best_model_mobilenet_mid_aug.pth\n",
      "  Epoch 18/50\n"
     ]
    },
    {
     "name": "stderr",
     "output_type": "stream",
     "text": [
      "                                                                                                    \r"
     ]
    },
    {
     "name": "stdout",
     "output_type": "stream",
     "text": [
      "    Train Loss: 0.0975 Acc: 97.91% | Time: 7.75s\n",
      "    Training loss improved (0.1054 -> 0.0975). Saving model...\n",
      "    Best model (lowest training loss) weights saved to ../results/final_training/best_model_mobilenet_mid_aug.pth\n",
      "  Epoch 19/50\n"
     ]
    },
    {
     "name": "stderr",
     "output_type": "stream",
     "text": [
      "                                                                                                    \r"
     ]
    },
    {
     "name": "stdout",
     "output_type": "stream",
     "text": [
      "    Train Loss: 0.0888 Acc: 98.48% | Time: 7.95s\n",
      "    Training loss improved (0.0975 -> 0.0888). Saving model...\n",
      "    Best model (lowest training loss) weights saved to ../results/final_training/best_model_mobilenet_mid_aug.pth\n",
      "  Epoch 20/50\n"
     ]
    },
    {
     "name": "stderr",
     "output_type": "stream",
     "text": [
      "                                                                                                    \r"
     ]
    },
    {
     "name": "stdout",
     "output_type": "stream",
     "text": [
      "    Train Loss: 0.0890 Acc: 97.99% | Time: 7.93s\n",
      "    No improvement in training loss for 1 epoch(s).\n",
      "  Epoch 21/50\n"
     ]
    },
    {
     "name": "stderr",
     "output_type": "stream",
     "text": [
      "                                                                                                    \r"
     ]
    },
    {
     "name": "stdout",
     "output_type": "stream",
     "text": [
      "    Train Loss: 0.0749 Acc: 98.75% | Time: 7.85s\n",
      "    Training loss improved (0.0888 -> 0.0749). Saving model...\n",
      "    Best model (lowest training loss) weights saved to ../results/final_training/best_model_mobilenet_mid_aug.pth\n",
      "  Epoch 22/50\n"
     ]
    },
    {
     "name": "stderr",
     "output_type": "stream",
     "text": [
      "                                                                                                    \r"
     ]
    },
    {
     "name": "stdout",
     "output_type": "stream",
     "text": [
      "    Train Loss: 0.0713 Acc: 98.94% | Time: 7.92s\n",
      "    Training loss improved (0.0749 -> 0.0713). Saving model...\n",
      "    Best model (lowest training loss) weights saved to ../results/final_training/best_model_mobilenet_mid_aug.pth\n",
      "  Epoch 23/50\n"
     ]
    },
    {
     "name": "stderr",
     "output_type": "stream",
     "text": [
      "                                                                                                    \r"
     ]
    },
    {
     "name": "stdout",
     "output_type": "stream",
     "text": [
      "    Train Loss: 0.0645 Acc: 98.75% | Time: 7.93s\n",
      "    Training loss improved (0.0713 -> 0.0645). Saving model...\n",
      "    Best model (lowest training loss) weights saved to ../results/final_training/best_model_mobilenet_mid_aug.pth\n",
      "  Epoch 24/50\n"
     ]
    },
    {
     "name": "stderr",
     "output_type": "stream",
     "text": [
      "                                                                                                    \r"
     ]
    },
    {
     "name": "stdout",
     "output_type": "stream",
     "text": [
      "    Train Loss: 0.0663 Acc: 98.56% | Time: 7.81s\n",
      "    No improvement in training loss for 1 epoch(s).\n",
      "  Epoch 25/50\n"
     ]
    },
    {
     "name": "stderr",
     "output_type": "stream",
     "text": [
      "                                                                                                    \r"
     ]
    },
    {
     "name": "stdout",
     "output_type": "stream",
     "text": [
      "    Train Loss: 0.0663 Acc: 98.80% | Time: 7.92s\n",
      "    No improvement in training loss for 2 epoch(s).\n",
      "  Epoch 26/50\n"
     ]
    },
    {
     "name": "stderr",
     "output_type": "stream",
     "text": [
      "                                                                                                    \r"
     ]
    },
    {
     "name": "stdout",
     "output_type": "stream",
     "text": [
      "    Train Loss: 0.0558 Acc: 99.02% | Time: 7.93s\n",
      "    Training loss improved (0.0645 -> 0.0558). Saving model...\n",
      "    Best model (lowest training loss) weights saved to ../results/final_training/best_model_mobilenet_mid_aug.pth\n",
      "  Epoch 27/50\n"
     ]
    },
    {
     "name": "stderr",
     "output_type": "stream",
     "text": [
      "                                                                                                    \r"
     ]
    },
    {
     "name": "stdout",
     "output_type": "stream",
     "text": [
      "    Train Loss: 0.0541 Acc: 98.94% | Time: 8.03s\n",
      "    Training loss improved (0.0558 -> 0.0541). Saving model...\n",
      "    Best model (lowest training loss) weights saved to ../results/final_training/best_model_mobilenet_mid_aug.pth\n",
      "  Epoch 28/50\n"
     ]
    },
    {
     "name": "stderr",
     "output_type": "stream",
     "text": [
      "                                                                                                    \r"
     ]
    },
    {
     "name": "stdout",
     "output_type": "stream",
     "text": [
      "    Train Loss: 0.0514 Acc: 98.97% | Time: 7.88s\n",
      "    Training loss improved (0.0541 -> 0.0514). Saving model...\n",
      "    Best model (lowest training loss) weights saved to ../results/final_training/best_model_mobilenet_mid_aug.pth\n",
      "  Epoch 29/50\n"
     ]
    },
    {
     "name": "stderr",
     "output_type": "stream",
     "text": [
      "                                                                                                    \r"
     ]
    },
    {
     "name": "stdout",
     "output_type": "stream",
     "text": [
      "    Train Loss: 0.0530 Acc: 99.16% | Time: 7.80s\n",
      "    No improvement in training loss for 1 epoch(s).\n",
      "  Epoch 30/50\n"
     ]
    },
    {
     "name": "stderr",
     "output_type": "stream",
     "text": [
      "                                                                                                    \r"
     ]
    },
    {
     "name": "stdout",
     "output_type": "stream",
     "text": [
      "    Train Loss: 0.0447 Acc: 99.32% | Time: 8.01s\n",
      "    Training loss improved (0.0514 -> 0.0447). Saving model...\n",
      "    Best model (lowest training loss) weights saved to ../results/final_training/best_model_mobilenet_mid_aug.pth\n",
      "  Epoch 31/50\n"
     ]
    },
    {
     "name": "stderr",
     "output_type": "stream",
     "text": [
      "                                                                                                    \r"
     ]
    },
    {
     "name": "stdout",
     "output_type": "stream",
     "text": [
      "    Train Loss: 0.0457 Acc: 99.16% | Time: 7.87s\n",
      "    No improvement in training loss for 1 epoch(s).\n",
      "  Epoch 32/50\n"
     ]
    },
    {
     "name": "stderr",
     "output_type": "stream",
     "text": [
      "                                                                                                    \r"
     ]
    },
    {
     "name": "stdout",
     "output_type": "stream",
     "text": [
      "    Train Loss: 0.0421 Acc: 99.27% | Time: 7.49s\n",
      "    Training loss improved (0.0447 -> 0.0421). Saving model...\n",
      "    Best model (lowest training loss) weights saved to ../results/final_training/best_model_mobilenet_mid_aug.pth\n",
      "  Epoch 33/50\n"
     ]
    },
    {
     "name": "stderr",
     "output_type": "stream",
     "text": [
      "                                                                                                    \r"
     ]
    },
    {
     "name": "stdout",
     "output_type": "stream",
     "text": [
      "    Train Loss: 0.0389 Acc: 99.35% | Time: 7.82s\n",
      "    Training loss improved (0.0421 -> 0.0389). Saving model...\n",
      "    Best model (lowest training loss) weights saved to ../results/final_training/best_model_mobilenet_mid_aug.pth\n",
      "  Epoch 34/50\n"
     ]
    },
    {
     "name": "stderr",
     "output_type": "stream",
     "text": [
      "                                                                                                    \r"
     ]
    },
    {
     "name": "stdout",
     "output_type": "stream",
     "text": [
      "    Train Loss: 0.0387 Acc: 99.16% | Time: 7.78s\n",
      "    Training loss improved (0.0389 -> 0.0387). Saving model...\n",
      "    Best model (lowest training loss) weights saved to ../results/final_training/best_model_mobilenet_mid_aug.pth\n",
      "  Epoch 35/50\n"
     ]
    },
    {
     "name": "stderr",
     "output_type": "stream",
     "text": [
      "                                                                                                    \r"
     ]
    },
    {
     "name": "stdout",
     "output_type": "stream",
     "text": [
      "    Train Loss: 0.0400 Acc: 99.21% | Time: 7.74s\n",
      "    No improvement in training loss for 1 epoch(s).\n",
      "  Epoch 36/50\n"
     ]
    },
    {
     "name": "stderr",
     "output_type": "stream",
     "text": [
      "                                                                                                    \r"
     ]
    },
    {
     "name": "stdout",
     "output_type": "stream",
     "text": [
      "    Train Loss: 0.0406 Acc: 99.16% | Time: 7.76s\n",
      "    No improvement in training loss for 2 epoch(s).\n",
      "  Epoch 37/50\n"
     ]
    },
    {
     "name": "stderr",
     "output_type": "stream",
     "text": [
      "                                                                                                    \r"
     ]
    },
    {
     "name": "stdout",
     "output_type": "stream",
     "text": [
      "    Train Loss: 0.0406 Acc: 99.05% | Time: 7.70s\n",
      "    No improvement in training loss for 3 epoch(s).\n",
      "  Epoch 38/50\n"
     ]
    },
    {
     "name": "stderr",
     "output_type": "stream",
     "text": [
      "                                                                                                    \r"
     ]
    },
    {
     "name": "stdout",
     "output_type": "stream",
     "text": [
      "    Train Loss: 0.0306 Acc: 99.46% | Time: 7.96s\n",
      "    Training loss improved (0.0387 -> 0.0306). Saving model...\n",
      "    Best model (lowest training loss) weights saved to ../results/final_training/best_model_mobilenet_mid_aug.pth\n",
      "  Epoch 39/50\n"
     ]
    },
    {
     "name": "stderr",
     "output_type": "stream",
     "text": [
      "                                                                                                    \r"
     ]
    },
    {
     "name": "stdout",
     "output_type": "stream",
     "text": [
      "    Train Loss: 0.0327 Acc: 99.29% | Time: 7.72s\n",
      "    No improvement in training loss for 1 epoch(s).\n",
      "  Epoch 40/50\n"
     ]
    },
    {
     "name": "stderr",
     "output_type": "stream",
     "text": [
      "                                                                                                    \r"
     ]
    },
    {
     "name": "stdout",
     "output_type": "stream",
     "text": [
      "    Train Loss: 0.0312 Acc: 99.43% | Time: 8.03s\n",
      "    No improvement in training loss for 2 epoch(s).\n",
      "  Epoch 41/50\n"
     ]
    },
    {
     "name": "stderr",
     "output_type": "stream",
     "text": [
      "                                                                                                    \r"
     ]
    },
    {
     "name": "stdout",
     "output_type": "stream",
     "text": [
      "    Train Loss: 0.0304 Acc: 99.57% | Time: 7.93s\n",
      "    Training loss improved (0.0306 -> 0.0304). Saving model...\n",
      "    Best model (lowest training loss) weights saved to ../results/final_training/best_model_mobilenet_mid_aug.pth\n",
      "  Epoch 42/50\n"
     ]
    },
    {
     "name": "stderr",
     "output_type": "stream",
     "text": [
      "                                                                                                    \r"
     ]
    },
    {
     "name": "stdout",
     "output_type": "stream",
     "text": [
      "    Train Loss: 0.0309 Acc: 99.40% | Time: 7.55s\n",
      "    No improvement in training loss for 1 epoch(s).\n",
      "  Epoch 43/50\n"
     ]
    },
    {
     "name": "stderr",
     "output_type": "stream",
     "text": [
      "                                                                                                    \r"
     ]
    },
    {
     "name": "stdout",
     "output_type": "stream",
     "text": [
      "    Train Loss: 0.0298 Acc: 99.46% | Time: 7.83s\n",
      "    Training loss improved (0.0304 -> 0.0298). Saving model...\n",
      "    Best model (lowest training loss) weights saved to ../results/final_training/best_model_mobilenet_mid_aug.pth\n",
      "  Epoch 44/50\n"
     ]
    },
    {
     "name": "stderr",
     "output_type": "stream",
     "text": [
      "                                                                                                    \r"
     ]
    },
    {
     "name": "stdout",
     "output_type": "stream",
     "text": [
      "    Train Loss: 0.0281 Acc: 99.40% | Time: 7.86s\n",
      "    Training loss improved (0.0298 -> 0.0281). Saving model...\n",
      "    Best model (lowest training loss) weights saved to ../results/final_training/best_model_mobilenet_mid_aug.pth\n",
      "  Epoch 45/50\n"
     ]
    },
    {
     "name": "stderr",
     "output_type": "stream",
     "text": [
      "                                                                                                    \r"
     ]
    },
    {
     "name": "stdout",
     "output_type": "stream",
     "text": [
      "    Train Loss: 0.0295 Acc: 99.35% | Time: 7.44s\n",
      "    No improvement in training loss for 1 epoch(s).\n",
      "  Epoch 46/50\n"
     ]
    },
    {
     "name": "stderr",
     "output_type": "stream",
     "text": [
      "                                                                                                    \r"
     ]
    },
    {
     "name": "stdout",
     "output_type": "stream",
     "text": [
      "    Train Loss: 0.0276 Acc: 99.48% | Time: 7.91s\n",
      "    Training loss improved (0.0281 -> 0.0276). Saving model...\n",
      "    Best model (lowest training loss) weights saved to ../results/final_training/best_model_mobilenet_mid_aug.pth\n",
      "  Epoch 47/50\n"
     ]
    },
    {
     "name": "stderr",
     "output_type": "stream",
     "text": [
      "                                                                                                    \r"
     ]
    },
    {
     "name": "stdout",
     "output_type": "stream",
     "text": [
      "    Train Loss: 0.0234 Acc: 99.67% | Time: 7.78s\n",
      "    Training loss improved (0.0276 -> 0.0234). Saving model...\n",
      "    Best model (lowest training loss) weights saved to ../results/final_training/best_model_mobilenet_mid_aug.pth\n",
      "  Epoch 48/50\n"
     ]
    },
    {
     "name": "stderr",
     "output_type": "stream",
     "text": [
      "                                                                                                    \r"
     ]
    },
    {
     "name": "stdout",
     "output_type": "stream",
     "text": [
      "    Train Loss: 0.0258 Acc: 99.40% | Time: 7.64s\n",
      "    No improvement in training loss for 1 epoch(s).\n",
      "  Epoch 49/50\n"
     ]
    },
    {
     "name": "stderr",
     "output_type": "stream",
     "text": [
      "                                                                                                    \r"
     ]
    },
    {
     "name": "stdout",
     "output_type": "stream",
     "text": [
      "    Train Loss: 0.0213 Acc: 99.59% | Time: 7.82s\n",
      "    Training loss improved (0.0234 -> 0.0213). Saving model...\n",
      "    Best model (lowest training loss) weights saved to ../results/final_training/best_model_mobilenet_mid_aug.pth\n",
      "  Epoch 50/50\n"
     ]
    },
    {
     "name": "stderr",
     "output_type": "stream",
     "text": [
      "                                                                                                    "
     ]
    },
    {
     "name": "stdout",
     "output_type": "stream",
     "text": [
      "    Train Loss: 0.0229 Acc: 99.59% | Time: 7.90s\n",
      "    No improvement in training loss for 1 epoch(s).\n",
      "  Training Finished. Total time: 6.52 minutes\n",
      "  Lowest Training Loss Achieved: 0.0213\n",
      "  Final training history for mobilenet_mid_aug saved to: ../results/final_training/final_training_history_mobilenet_mid_aug.json\n",
      "--- Finished Final Training for Setup ID: mobilenet_mid_aug ---\n",
      "\n",
      "********** Final Training Stage for mobilenet_mid_aug finished in 6.53 minutes **********\n",
      "Best model saved to: ../results/final_training/best_model_mobilenet_mid_aug.pth\n"
     ]
    },
    {
     "name": "stderr",
     "output_type": "stream",
     "text": [
      "\r"
     ]
    }
   ],
   "source": [
    "for setup_id in SETUP_IDS_TO_RUN:\n",
    "    if best_hpo_params_found:  # Proceed only if HPO was successful\n",
    "        print(f\"\\n{'='*20} STAGE 2: Final Model Training for {setup_id} {'='*20}\")\n",
    "        final_train_start_time = time.time()\n",
    "\n",
    "        # Call the final training function from run_final_training.py\n",
    "        # It will load the best_params file itself based on setup_id.\n",
    "        saved_model_filepath = perform_final_training_for_setup(\n",
    "            setup_id=setup_id,\n",
    "            max_epochs=FINAL_TRAIN_EPOCHS,\n",
    "            patience=PATIENCE,\n",
    "            batch_size=BATCH_SIZE,\n",
    "            device=device\n",
    "            # The function saves its outputs to files within config.FINAL_TRAINING_DIR\n",
    "        )\n",
    "\n",
    "        final_train_end_time = time.time()\n",
    "        print(f\"\\n{'*'*10} Final Training Stage for {setup_id} finished in {(final_train_end_time - final_train_start_time)/60:.2f} minutes {'*'*10}\")\n",
    "\n",
    "        if saved_model_filepath:\n",
    "            print(f\"Best model saved to: {saved_model_filepath}\")\n",
    "            # This path is also saved internally by the function to results/final_training/best_model_{setup_id}.pth\n",
    "        else:\n",
    "            print(f\"Final training did not complete successfully or model was not saved for {setup_id}. Cannot proceed to evaluation.\")\n",
    "    else:\n",
    "        print(f\"\\nSkipping Stage 2: Final Model Training for {setup_id} due to HPO failure or no best parameters found.\")\n",
    "        saved_model_filepath = None  # Ensure it's None if HPO failed"
   ]
  },
  {
   "cell_type": "markdown",
   "id": "f3cd65a8",
   "metadata": {},
   "source": [
    "## Stage 3: Evaluation"
   ]
  },
  {
   "cell_type": "code",
   "execution_count": 11,
   "id": "dc4cc41d",
   "metadata": {},
   "outputs": [
    {
     "name": "stderr",
     "output_type": "stream",
     "text": [
      "/home/julianm56/Dev/Math392/MATH392_Final_Project/notebooks/../scripts/evaluate.py:30: FutureWarning: You are using `torch.load` with `weights_only=False` (the current default value), which uses the default pickle module implicitly. It is possible to construct malicious pickle data which will execute arbitrary code during unpickling (See https://github.com/pytorch/pytorch/blob/main/SECURITY.md#untrusted-models for more details). In a future release, the default value for `weights_only` will be flipped to `True`. This limits the functions that could be executed during unpickling. Arbitrary objects will no longer be allowed to be loaded via this mode unless they are explicitly allowlisted by the user via `torch.serialization.add_safe_globals`. We recommend you start setting `weights_only=True` for any use case where you don't have full control of the loaded file. Please open an issue on GitHub for any issues related to this experimental feature.\n",
      "  model.load_state_dict(torch.load(model_path, map_location=device))\n"
     ]
    },
    {
     "name": "stdout",
     "output_type": "stream",
     "text": [
      "\n",
      "==================== STAGE 3: Evaluation for resnet_head_noaug ====================\n",
      "--- Starting Evaluation for Setup ID: resnet_head_noaug ---\n",
      "  Loaded model from ../results/final_training/best_model_resnet_head_noaug.pth\n"
     ]
    },
    {
     "name": "stderr",
     "output_type": "stream",
     "text": [
      "/home/julianm56/Dev/Math392/MATH392_Final_Project/notebooks/../scripts/evaluate.py:30: FutureWarning: You are using `torch.load` with `weights_only=False` (the current default value), which uses the default pickle module implicitly. It is possible to construct malicious pickle data which will execute arbitrary code during unpickling (See https://github.com/pytorch/pytorch/blob/main/SECURITY.md#untrusted-models for more details). In a future release, the default value for `weights_only` will be flipped to `True`. This limits the functions that could be executed during unpickling. Arbitrary objects will no longer be allowed to be loaded via this mode unless they are explicitly allowlisted by the user via `torch.serialization.add_safe_globals`. We recommend you start setting `weights_only=True` for any use case where you don't have full control of the loaded file. Please open an issue on GitHub for any issues related to this experimental feature.\n",
      "  model.load_state_dict(torch.load(model_path, map_location=device))\n"
     ]
    },
    {
     "name": "stdout",
     "output_type": "stream",
     "text": [
      "  Predictions saved to: ../results/evaluation/predictions_resnet_head_noaug.csv\n",
      "  Evaluation metrics saved to: ../results/evaluation/eval_metrics_resnet_head_noaug.csv\n",
      "  Overall Test Accuracy for resnet_head_noaug: 86.86%\n",
      "--- Finished Evaluation for Setup ID: resnet_head_noaug ---\n",
      "\n",
      "********** Evaluation Stage for resnet_head_noaug finished in 0.30 minutes **********\n",
      "\n",
      "Evaluation results (predictions and metrics CSVs) are saved in: ../results/evaluation\n",
      "\n",
      "==================== STAGE 3: Evaluation for mobilenet_mid_aug ====================\n",
      "--- Starting Evaluation for Setup ID: mobilenet_mid_aug ---\n",
      "  Loaded model from ../results/final_training/best_model_mobilenet_mid_aug.pth\n"
     ]
    },
    {
     "name": "stderr",
     "output_type": "stream",
     "text": [
      "                                                                                                    "
     ]
    },
    {
     "name": "stdout",
     "output_type": "stream",
     "text": [
      "  Predictions saved to: ../results/evaluation/predictions_mobilenet_mid_aug.csv\n",
      "  Evaluation metrics saved to: ../results/evaluation/eval_metrics_mobilenet_mid_aug.csv\n",
      "  Overall Test Accuracy for mobilenet_mid_aug: 80.54%\n",
      "--- Finished Evaluation for Setup ID: mobilenet_mid_aug ---\n",
      "\n",
      "********** Evaluation Stage for mobilenet_mid_aug finished in 0.34 minutes **********\n",
      "\n",
      "Evaluation results (predictions and metrics CSVs) are saved in: ../results/evaluation\n"
     ]
    },
    {
     "name": "stderr",
     "output_type": "stream",
     "text": [
      "\r"
     ]
    }
   ],
   "source": [
    "for setup_id in SETUP_IDS_TO_RUN:\n",
    "    if saved_model_filepath and os.path.exists(saved_model_filepath):  # Proceed only if final training produced a model\n",
    "        print(f\"\\n{'='*20} STAGE 3: Evaluation for {setup_id} {'='*20}\")\n",
    "        eval_start_time = time.time()\n",
    "\n",
    "        # Call the evaluation function from run_evaluation.py\n",
    "        # It will load the model file itself based on setup_id and config.FINAL_TRAINING_DIR\n",
    "        perform_evaluation_for_setup(\n",
    "            setup_id=setup_id,\n",
    "            device=device\n",
    "            # The function saves its outputs to files within config.EVALUATION_DIR\n",
    "        )\n",
    "\n",
    "        eval_end_time = time.time()\n",
    "        print(f\"\\n{'*'*10} Evaluation Stage for {setup_id} finished in {(eval_end_time - eval_start_time)/60:.2f} minutes {'*'*10}\")\n",
    "        print(f\"\\nEvaluation results (predictions and metrics CSVs) are saved in: {config.EVALUATION_DIR}\")\n",
    "    else:\n",
    "        print(f\"\\nSkipping Stage 3: Evaluation for {setup_id} due to final training failure or model not found.\")"
   ]
  }
 ],
 "metadata": {
  "kernelspec": {
   "display_name": "math392",
   "language": "python",
   "name": "python3"
  },
  "language_info": {
   "codemirror_mode": {
    "name": "ipython",
    "version": 3
   },
   "file_extension": ".py",
   "mimetype": "text/x-python",
   "name": "python",
   "nbconvert_exporter": "python",
   "pygments_lexer": "ipython3",
   "version": "3.11.11"
  }
 },
 "nbformat": 4,
 "nbformat_minor": 5
}
